{
 "cells": [
  {
   "cell_type": "code",
   "execution_count": 4,
   "metadata": {},
   "outputs": [],
   "source": [
    "import pandas as pd \n",
    "import re\n",
    "import nltk\n",
    "from nltk.corpus import stopwords"
   ]
  },
  {
   "cell_type": "code",
   "execution_count": 5,
   "metadata": {},
   "outputs": [],
   "source": [
    "df = pd.read_parquet(\"dataset.parquet\")"
   ]
  },
  {
   "cell_type": "code",
   "execution_count": 6,
   "metadata": {},
   "outputs": [
    {
     "data": {
      "text/html": [
       "<div>\n",
       "<style scoped>\n",
       "    .dataframe tbody tr th:only-of-type {\n",
       "        vertical-align: middle;\n",
       "    }\n",
       "\n",
       "    .dataframe tbody tr th {\n",
       "        vertical-align: top;\n",
       "    }\n",
       "\n",
       "    .dataframe thead th {\n",
       "        text-align: right;\n",
       "    }\n",
       "</style>\n",
       "<table border=\"1\" class=\"dataframe\">\n",
       "  <thead>\n",
       "    <tr style=\"text-align: right;\">\n",
       "      <th></th>\n",
       "      <th>articles</th>\n",
       "      <th>label</th>\n",
       "      <th>urls</th>\n",
       "    </tr>\n",
       "  </thead>\n",
       "  <tbody>\n",
       "    <tr>\n",
       "      <th>0</th>\n",
       "      <td>The news of Justice David Souter’s retirement ...</td>\n",
       "      <td>1</td>\n",
       "      <td>http://www.americamagazine.org/blog/entry.cfm?...</td>\n",
       "    </tr>\n",
       "    <tr>\n",
       "      <th>1</th>\n",
       "      <td>Let’s face it. Your goal is to go deer hunting...</td>\n",
       "      <td>1</td>\n",
       "      <td>http://www.rockridgeinstitute.org/research/roc...</td>\n",
       "    </tr>\n",
       "    <tr>\n",
       "      <th>2</th>\n",
       "      <td>Don't worry; it's just temporary. When the new...</td>\n",
       "      <td>1</td>\n",
       "      <td>http://whohijackedourcountry.blogspot.com/</td>\n",
       "    </tr>\n",
       "    <tr>\n",
       "      <th>3</th>\n",
       "      <td>r on a daily basis (like oral contraception or...</td>\n",
       "      <td>1</td>\n",
       "      <td>http://theamericanscene.com/2009/06/02/a-quest...</td>\n",
       "    </tr>\n",
       "    <tr>\n",
       "      <th>4</th>\n",
       "      <td>UPDATE: Sen. Kent Conrad (D-N.D.) denied the B...</td>\n",
       "      <td>1</td>\n",
       "      <td>http://www.huffingtonpost.com/2009/06/24/dems-...</td>\n",
       "    </tr>\n",
       "  </tbody>\n",
       "</table>\n",
       "</div>"
      ],
      "text/plain": [
       "                                            articles  label  \\\n",
       "0  The news of Justice David Souter’s retirement ...      1   \n",
       "1  Let’s face it. Your goal is to go deer hunting...      1   \n",
       "2  Don't worry; it's just temporary. When the new...      1   \n",
       "3  r on a daily basis (like oral contraception or...      1   \n",
       "4  UPDATE: Sen. Kent Conrad (D-N.D.) denied the B...      1   \n",
       "\n",
       "                                                urls  \n",
       "0  http://www.americamagazine.org/blog/entry.cfm?...  \n",
       "1  http://www.rockridgeinstitute.org/research/roc...  \n",
       "2         http://whohijackedourcountry.blogspot.com/  \n",
       "3  http://theamericanscene.com/2009/06/02/a-quest...  \n",
       "4  http://www.huffingtonpost.com/2009/06/24/dems-...  "
      ]
     },
     "execution_count": 6,
     "metadata": {},
     "output_type": "execute_result"
    }
   ],
   "source": [
    "df.head()"
   ]
  },
  {
   "cell_type": "code",
   "execution_count": 7,
   "metadata": {},
   "outputs": [],
   "source": [
    "df[\"articles\"] = df[\"articles\"].str.lower()"
   ]
  },
  {
   "cell_type": "code",
   "execution_count": 8,
   "metadata": {},
   "outputs": [],
   "source": [
    "regex = r'[^\\w\\sÀ-ÿ]'"
   ]
  },
  {
   "cell_type": "code",
   "execution_count": 9,
   "metadata": {},
   "outputs": [],
   "source": [
    "df[\"articles\"] = df[\"articles\"].str.replace(regex, ' ', regex=True) # aplicando o regex"
   ]
  },
  {
   "cell_type": "code",
   "execution_count": 10,
   "metadata": {},
   "outputs": [
    {
     "data": {
      "text/plain": [
       "'the news of justice david souter s retirement adds another challenging task to president obama s already full plate  there is any number of qualified candidates so the challenge is merely a political one  everyone seems to think obama will choose a woman  i agree that women often bring a different perspective to life and its conundrums  and so would likely bring a different perspective to the application of law  the same holds true for picking a latino or a latina  which would place the first hispanic on the court  of course  obama has no idea how many more appointments he may make so the temptation to appoint someone he really trusts  like gov  devall patrick  must be strong  whomever he picks must  of course  be liberal enough to satisfy his base without being so left of center as to alter obama s carefully crafted image as a centrist in governing  all of these considerations have candidates appropriate to the political dynamics noted above  but there is one person who selection transcends all the different classifications and whose selection would   instantly   galvanize the entire democratic party because it would entail the righting of an injustice that was simultaneously specific and so egregious as to appear cosmic  president obama should nominate al gore to the court  the choice would be electrifying  some will object that mr  gore is not even a lawyer  which is true  but  there is a long tradition of having those with legislative or executive experience on the court  a tradition that has fallen by the wayside as presidents have sought nominees with little or no paper trail  earl warren was a lawyer  and had served as attorney general of california  but it was his stature as a three term governor who was nominated by both parties for the job that earned him the nod for the court in 1953  mr  gore spent sixteen years in congress making laws  serving in both the house and senate  he served eight years in the executive branch enforcing laws  all this without a law degree  ultimately  the case for a gore appointment is simple  conservative jurists justify their rulings by appealing to abstract principles such as  strict construction  or  original intent of the founders  this last despite the fact that even a modicum of historical familiarity with the founding shows that the founders had many and varied intentions for the constitution they crafted  liberal jurists care about the real world effects of a law  no one has been the object of both conservative hypocrisy  whither states rights   and a very nasty real world application of the law in the way al gore was in bush v  gore  i suspect president obama will have other nominations by which he can bring other perspectives to the high court s proceedings  mr  gore might not even desire the appointment  but  in one stroke  obama could avoid any intra party grumblings and show to all the world that injustice can be rectified  your source for jobs  books  retreats  and much more  '"
      ]
     },
     "execution_count": 10,
     "metadata": {},
     "output_type": "execute_result"
    }
   ],
   "source": [
    "first_line = df['articles'].iloc[0]\n",
    "first_line"
   ]
  },
  {
   "cell_type": "code",
   "execution_count": 11,
   "metadata": {},
   "outputs": [
    {
     "name": "stderr",
     "output_type": "stream",
     "text": [
      "[nltk_data] Downloading package stopwords to\n",
      "[nltk_data]     C:\\Users\\Vinicius\\AppData\\Roaming\\nltk_data...\n",
      "[nltk_data]   Package stopwords is already up-to-date!\n"
     ]
    },
    {
     "data": {
      "text/plain": [
       "True"
      ]
     },
     "execution_count": 11,
     "metadata": {},
     "output_type": "execute_result"
    }
   ],
   "source": [
    "nltk.download('stopwords')\n",
    "stop_words = set(stopwords.words('english'))"
   ]
  },
  {
   "cell_type": "code",
   "execution_count": 13,
   "metadata": {},
   "outputs": [],
   "source": [
    "reviews_processadas = []\n",
    "\n",
    "for review in df['articles']:\n",
    "    palavras = review.split()\n",
    "    palavras_filtradas = [w for w in palavras if w.lower() not in stop_words]\n",
    "    review_processada = ' '.join(palavras_filtradas)\n",
    "    reviews_processadas.append(review_processada)\n",
    "\n",
    "df['articles'] = reviews_processadas"
   ]
  },
  {
   "cell_type": "code",
   "execution_count": 14,
   "metadata": {},
   "outputs": [
    {
     "data": {
      "text/plain": [
       "'news justice david souter retirement adds another challenging task president obama already full plate number qualified candidates challenge merely political one everyone seems think obama choose woman agree women often bring different perspective life conundrums would likely bring different perspective application law holds true picking latino latina would place first hispanic court course obama idea many appointments may make temptation appoint someone really trusts like gov devall patrick must strong whomever picks must course liberal enough satisfy base without left center alter obama carefully crafted image centrist governing considerations candidates appropriate political dynamics noted one person selection transcends different classifications whose selection would instantly galvanize entire democratic party would entail righting injustice simultaneously specific egregious appear cosmic president obama nominate al gore court choice would electrifying object mr gore even lawyer true long tradition legislative executive experience court tradition fallen wayside presidents sought nominees little paper trail earl warren lawyer served attorney general california stature three term governor nominated parties job earned nod court 1953 mr gore spent sixteen years congress making laws serving house senate served eight years executive branch enforcing laws without law degree ultimately case gore appointment simple conservative jurists justify rulings appealing abstract principles strict construction original intent founders last despite fact even modicum historical familiarity founding shows founders many varied intentions constitution crafted liberal jurists care real world effects law one object conservative hypocrisy whither states rights nasty real world application law way al gore bush v gore suspect president obama nominations bring perspectives high court proceedings mr gore might even desire appointment one stroke obama could avoid intra party grumblings show world injustice rectified source jobs books retreats much'"
      ]
     },
     "execution_count": 14,
     "metadata": {},
     "output_type": "execute_result"
    }
   ],
   "source": [
    "first_line = df['articles'].iloc[0]\n",
    "first_line"
   ]
  },
  {
   "cell_type": "code",
   "execution_count": 15,
   "metadata": {},
   "outputs": [
    {
     "data": {
      "text/html": [
       "<div>\n",
       "<style scoped>\n",
       "    .dataframe tbody tr th:only-of-type {\n",
       "        vertical-align: middle;\n",
       "    }\n",
       "\n",
       "    .dataframe tbody tr th {\n",
       "        vertical-align: top;\n",
       "    }\n",
       "\n",
       "    .dataframe thead th {\n",
       "        text-align: right;\n",
       "    }\n",
       "</style>\n",
       "<table border=\"1\" class=\"dataframe\">\n",
       "  <thead>\n",
       "    <tr style=\"text-align: right;\">\n",
       "      <th></th>\n",
       "      <th>articles</th>\n",
       "      <th>label</th>\n",
       "      <th>urls</th>\n",
       "    </tr>\n",
       "  </thead>\n",
       "  <tbody>\n",
       "    <tr>\n",
       "      <th>0</th>\n",
       "      <td>news justice david souter retirement adds anot...</td>\n",
       "      <td>1</td>\n",
       "      <td>http://www.americamagazine.org/blog/entry.cfm?...</td>\n",
       "    </tr>\n",
       "    <tr>\n",
       "      <th>1</th>\n",
       "      <td>let face goal go deer hunting really want spen...</td>\n",
       "      <td>1</td>\n",
       "      <td>http://www.rockridgeinstitute.org/research/roc...</td>\n",
       "    </tr>\n",
       "    <tr>\n",
       "      <th>2</th>\n",
       "      <td>worry temporary new sheriff takes next month a...</td>\n",
       "      <td>1</td>\n",
       "      <td>http://whohijackedourcountry.blogspot.com/</td>\n",
       "    </tr>\n",
       "    <tr>\n",
       "      <th>3</th>\n",
       "      <td>r daily basis like oral contraception rhythm w...</td>\n",
       "      <td>1</td>\n",
       "      <td>http://theamericanscene.com/2009/06/02/a-quest...</td>\n",
       "    </tr>\n",
       "    <tr>\n",
       "      <th>4</th>\n",
       "      <td>update sen kent conrad n denied bloomberg stor...</td>\n",
       "      <td>1</td>\n",
       "      <td>http://www.huffingtonpost.com/2009/06/24/dems-...</td>\n",
       "    </tr>\n",
       "  </tbody>\n",
       "</table>\n",
       "</div>"
      ],
      "text/plain": [
       "                                            articles  label  \\\n",
       "0  news justice david souter retirement adds anot...      1   \n",
       "1  let face goal go deer hunting really want spen...      1   \n",
       "2  worry temporary new sheriff takes next month a...      1   \n",
       "3  r daily basis like oral contraception rhythm w...      1   \n",
       "4  update sen kent conrad n denied bloomberg stor...      1   \n",
       "\n",
       "                                                urls  \n",
       "0  http://www.americamagazine.org/blog/entry.cfm?...  \n",
       "1  http://www.rockridgeinstitute.org/research/roc...  \n",
       "2         http://whohijackedourcountry.blogspot.com/  \n",
       "3  http://theamericanscene.com/2009/06/02/a-quest...  \n",
       "4  http://www.huffingtonpost.com/2009/06/24/dems-...  "
      ]
     },
     "execution_count": 15,
     "metadata": {},
     "output_type": "execute_result"
    }
   ],
   "source": [
    "df.head()"
   ]
  },
  {
   "cell_type": "code",
   "execution_count": 16,
   "metadata": {},
   "outputs": [],
   "source": [
    "# exportando dataset processado com regex e stopwords\n",
    "\n",
    "df.to_parquet(\"dataset_processed.parquet\")"
   ]
  }
 ],
 "metadata": {
  "kernelspec": {
   "display_name": "projeto-reddit",
   "language": "python",
   "name": "python3"
  },
  "language_info": {
   "codemirror_mode": {
    "name": "ipython",
    "version": 3
   },
   "file_extension": ".py",
   "mimetype": "text/x-python",
   "name": "python",
   "nbconvert_exporter": "python",
   "pygments_lexer": "ipython3",
   "version": "3.11.9"
  }
 },
 "nbformat": 4,
 "nbformat_minor": 2
}

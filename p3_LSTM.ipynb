{
  "nbformat": 4,
  "nbformat_minor": 0,
  "metadata": {
    "colab": {
      "provenance": []
    },
    "kernelspec": {
      "name": "python3",
      "display_name": "Python 3"
    },
    "language_info": {
      "name": "python"
    }
  },
  "cells": [
    {
      "cell_type": "code",
      "execution_count": 10,
      "metadata": {
        "id": "-TqG4vicy3PO"
      },
      "outputs": [],
      "source": [
        "import pandas as pd\n",
        "import spacy\n",
        "from google.colab import drive"
      ]
    },
    {
      "cell_type": "code",
      "source": [
        "drive.mount(\"/content/Drive\")"
      ],
      "metadata": {
        "colab": {
          "base_uri": "https://localhost:8080/"
        },
        "id": "g0ADn-gxsrFx",
        "outputId": "68ab8e25-e523-42f4-c7ef-d971763f4371"
      },
      "execution_count": 11,
      "outputs": [
        {
          "output_type": "stream",
          "name": "stdout",
          "text": [
            "Drive already mounted at /content/Drive; to attempt to forcibly remount, call drive.mount(\"/content/Drive\", force_remount=True).\n"
          ]
        }
      ]
    },
    {
      "cell_type": "code",
      "source": [
        "df = pd.read_parquet(\"/content/Drive/MyDrive/PLN/projeto-pln/dataset_processed.parquet\")"
      ],
      "metadata": {
        "id": "NIl_Xivmy_Zi"
      },
      "execution_count": 12,
      "outputs": []
    },
    {
      "cell_type": "code",
      "source": [
        "df.head()"
      ],
      "metadata": {
        "colab": {
          "base_uri": "https://localhost:8080/",
          "height": 206
        },
        "id": "4ZdaOaDXtHwk",
        "outputId": "12c6e2ce-38ec-405b-f6fb-6a52799c076c"
      },
      "execution_count": 13,
      "outputs": [
        {
          "output_type": "execute_result",
          "data": {
            "text/plain": [
              "                                            articles  label\n",
              "0  news justice david souter retirement adds anot...      1\n",
              "1  let face goal go deer hunting really want spen...      1\n",
              "2  worry temporary new sheriff takes next month a...      1\n",
              "3  r daily basis like oral contraception rhythm w...      1\n",
              "4  update sen kent conrad n denied bloomberg stor...      1"
            ],
            "text/html": [
              "\n",
              "  <div id=\"df-2603d15f-c9e9-4444-8a6b-e551a66aa3ca\" class=\"colab-df-container\">\n",
              "    <div>\n",
              "<style scoped>\n",
              "    .dataframe tbody tr th:only-of-type {\n",
              "        vertical-align: middle;\n",
              "    }\n",
              "\n",
              "    .dataframe tbody tr th {\n",
              "        vertical-align: top;\n",
              "    }\n",
              "\n",
              "    .dataframe thead th {\n",
              "        text-align: right;\n",
              "    }\n",
              "</style>\n",
              "<table border=\"1\" class=\"dataframe\">\n",
              "  <thead>\n",
              "    <tr style=\"text-align: right;\">\n",
              "      <th></th>\n",
              "      <th>articles</th>\n",
              "      <th>label</th>\n",
              "    </tr>\n",
              "  </thead>\n",
              "  <tbody>\n",
              "    <tr>\n",
              "      <th>0</th>\n",
              "      <td>news justice david souter retirement adds anot...</td>\n",
              "      <td>1</td>\n",
              "    </tr>\n",
              "    <tr>\n",
              "      <th>1</th>\n",
              "      <td>let face goal go deer hunting really want spen...</td>\n",
              "      <td>1</td>\n",
              "    </tr>\n",
              "    <tr>\n",
              "      <th>2</th>\n",
              "      <td>worry temporary new sheriff takes next month a...</td>\n",
              "      <td>1</td>\n",
              "    </tr>\n",
              "    <tr>\n",
              "      <th>3</th>\n",
              "      <td>r daily basis like oral contraception rhythm w...</td>\n",
              "      <td>1</td>\n",
              "    </tr>\n",
              "    <tr>\n",
              "      <th>4</th>\n",
              "      <td>update sen kent conrad n denied bloomberg stor...</td>\n",
              "      <td>1</td>\n",
              "    </tr>\n",
              "  </tbody>\n",
              "</table>\n",
              "</div>\n",
              "    <div class=\"colab-df-buttons\">\n",
              "\n",
              "  <div class=\"colab-df-container\">\n",
              "    <button class=\"colab-df-convert\" onclick=\"convertToInteractive('df-2603d15f-c9e9-4444-8a6b-e551a66aa3ca')\"\n",
              "            title=\"Convert this dataframe to an interactive table.\"\n",
              "            style=\"display:none;\">\n",
              "\n",
              "  <svg xmlns=\"http://www.w3.org/2000/svg\" height=\"24px\" viewBox=\"0 -960 960 960\">\n",
              "    <path d=\"M120-120v-720h720v720H120Zm60-500h600v-160H180v160Zm220 220h160v-160H400v160Zm0 220h160v-160H400v160ZM180-400h160v-160H180v160Zm440 0h160v-160H620v160ZM180-180h160v-160H180v160Zm440 0h160v-160H620v160Z\"/>\n",
              "  </svg>\n",
              "    </button>\n",
              "\n",
              "  <style>\n",
              "    .colab-df-container {\n",
              "      display:flex;\n",
              "      gap: 12px;\n",
              "    }\n",
              "\n",
              "    .colab-df-convert {\n",
              "      background-color: #E8F0FE;\n",
              "      border: none;\n",
              "      border-radius: 50%;\n",
              "      cursor: pointer;\n",
              "      display: none;\n",
              "      fill: #1967D2;\n",
              "      height: 32px;\n",
              "      padding: 0 0 0 0;\n",
              "      width: 32px;\n",
              "    }\n",
              "\n",
              "    .colab-df-convert:hover {\n",
              "      background-color: #E2EBFA;\n",
              "      box-shadow: 0px 1px 2px rgba(60, 64, 67, 0.3), 0px 1px 3px 1px rgba(60, 64, 67, 0.15);\n",
              "      fill: #174EA6;\n",
              "    }\n",
              "\n",
              "    .colab-df-buttons div {\n",
              "      margin-bottom: 4px;\n",
              "    }\n",
              "\n",
              "    [theme=dark] .colab-df-convert {\n",
              "      background-color: #3B4455;\n",
              "      fill: #D2E3FC;\n",
              "    }\n",
              "\n",
              "    [theme=dark] .colab-df-convert:hover {\n",
              "      background-color: #434B5C;\n",
              "      box-shadow: 0px 1px 3px 1px rgba(0, 0, 0, 0.15);\n",
              "      filter: drop-shadow(0px 1px 2px rgba(0, 0, 0, 0.3));\n",
              "      fill: #FFFFFF;\n",
              "    }\n",
              "  </style>\n",
              "\n",
              "    <script>\n",
              "      const buttonEl =\n",
              "        document.querySelector('#df-2603d15f-c9e9-4444-8a6b-e551a66aa3ca button.colab-df-convert');\n",
              "      buttonEl.style.display =\n",
              "        google.colab.kernel.accessAllowed ? 'block' : 'none';\n",
              "\n",
              "      async function convertToInteractive(key) {\n",
              "        const element = document.querySelector('#df-2603d15f-c9e9-4444-8a6b-e551a66aa3ca');\n",
              "        const dataTable =\n",
              "          await google.colab.kernel.invokeFunction('convertToInteractive',\n",
              "                                                    [key], {});\n",
              "        if (!dataTable) return;\n",
              "\n",
              "        const docLinkHtml = 'Like what you see? Visit the ' +\n",
              "          '<a target=\"_blank\" href=https://colab.research.google.com/notebooks/data_table.ipynb>data table notebook</a>'\n",
              "          + ' to learn more about interactive tables.';\n",
              "        element.innerHTML = '';\n",
              "        dataTable['output_type'] = 'display_data';\n",
              "        await google.colab.output.renderOutput(dataTable, element);\n",
              "        const docLink = document.createElement('div');\n",
              "        docLink.innerHTML = docLinkHtml;\n",
              "        element.appendChild(docLink);\n",
              "      }\n",
              "    </script>\n",
              "  </div>\n",
              "\n",
              "\n",
              "<div id=\"df-98a80730-3486-4950-9518-21c2f522109d\">\n",
              "  <button class=\"colab-df-quickchart\" onclick=\"quickchart('df-98a80730-3486-4950-9518-21c2f522109d')\"\n",
              "            title=\"Suggest charts\"\n",
              "            style=\"display:none;\">\n",
              "\n",
              "<svg xmlns=\"http://www.w3.org/2000/svg\" height=\"24px\"viewBox=\"0 0 24 24\"\n",
              "     width=\"24px\">\n",
              "    <g>\n",
              "        <path d=\"M19 3H5c-1.1 0-2 .9-2 2v14c0 1.1.9 2 2 2h14c1.1 0 2-.9 2-2V5c0-1.1-.9-2-2-2zM9 17H7v-7h2v7zm4 0h-2V7h2v10zm4 0h-2v-4h2v4z\"/>\n",
              "    </g>\n",
              "</svg>\n",
              "  </button>\n",
              "\n",
              "<style>\n",
              "  .colab-df-quickchart {\n",
              "      --bg-color: #E8F0FE;\n",
              "      --fill-color: #1967D2;\n",
              "      --hover-bg-color: #E2EBFA;\n",
              "      --hover-fill-color: #174EA6;\n",
              "      --disabled-fill-color: #AAA;\n",
              "      --disabled-bg-color: #DDD;\n",
              "  }\n",
              "\n",
              "  [theme=dark] .colab-df-quickchart {\n",
              "      --bg-color: #3B4455;\n",
              "      --fill-color: #D2E3FC;\n",
              "      --hover-bg-color: #434B5C;\n",
              "      --hover-fill-color: #FFFFFF;\n",
              "      --disabled-bg-color: #3B4455;\n",
              "      --disabled-fill-color: #666;\n",
              "  }\n",
              "\n",
              "  .colab-df-quickchart {\n",
              "    background-color: var(--bg-color);\n",
              "    border: none;\n",
              "    border-radius: 50%;\n",
              "    cursor: pointer;\n",
              "    display: none;\n",
              "    fill: var(--fill-color);\n",
              "    height: 32px;\n",
              "    padding: 0;\n",
              "    width: 32px;\n",
              "  }\n",
              "\n",
              "  .colab-df-quickchart:hover {\n",
              "    background-color: var(--hover-bg-color);\n",
              "    box-shadow: 0 1px 2px rgba(60, 64, 67, 0.3), 0 1px 3px 1px rgba(60, 64, 67, 0.15);\n",
              "    fill: var(--button-hover-fill-color);\n",
              "  }\n",
              "\n",
              "  .colab-df-quickchart-complete:disabled,\n",
              "  .colab-df-quickchart-complete:disabled:hover {\n",
              "    background-color: var(--disabled-bg-color);\n",
              "    fill: var(--disabled-fill-color);\n",
              "    box-shadow: none;\n",
              "  }\n",
              "\n",
              "  .colab-df-spinner {\n",
              "    border: 2px solid var(--fill-color);\n",
              "    border-color: transparent;\n",
              "    border-bottom-color: var(--fill-color);\n",
              "    animation:\n",
              "      spin 1s steps(1) infinite;\n",
              "  }\n",
              "\n",
              "  @keyframes spin {\n",
              "    0% {\n",
              "      border-color: transparent;\n",
              "      border-bottom-color: var(--fill-color);\n",
              "      border-left-color: var(--fill-color);\n",
              "    }\n",
              "    20% {\n",
              "      border-color: transparent;\n",
              "      border-left-color: var(--fill-color);\n",
              "      border-top-color: var(--fill-color);\n",
              "    }\n",
              "    30% {\n",
              "      border-color: transparent;\n",
              "      border-left-color: var(--fill-color);\n",
              "      border-top-color: var(--fill-color);\n",
              "      border-right-color: var(--fill-color);\n",
              "    }\n",
              "    40% {\n",
              "      border-color: transparent;\n",
              "      border-right-color: var(--fill-color);\n",
              "      border-top-color: var(--fill-color);\n",
              "    }\n",
              "    60% {\n",
              "      border-color: transparent;\n",
              "      border-right-color: var(--fill-color);\n",
              "    }\n",
              "    80% {\n",
              "      border-color: transparent;\n",
              "      border-right-color: var(--fill-color);\n",
              "      border-bottom-color: var(--fill-color);\n",
              "    }\n",
              "    90% {\n",
              "      border-color: transparent;\n",
              "      border-bottom-color: var(--fill-color);\n",
              "    }\n",
              "  }\n",
              "</style>\n",
              "\n",
              "  <script>\n",
              "    async function quickchart(key) {\n",
              "      const quickchartButtonEl =\n",
              "        document.querySelector('#' + key + ' button');\n",
              "      quickchartButtonEl.disabled = true;  // To prevent multiple clicks.\n",
              "      quickchartButtonEl.classList.add('colab-df-spinner');\n",
              "      try {\n",
              "        const charts = await google.colab.kernel.invokeFunction(\n",
              "            'suggestCharts', [key], {});\n",
              "      } catch (error) {\n",
              "        console.error('Error during call to suggestCharts:', error);\n",
              "      }\n",
              "      quickchartButtonEl.classList.remove('colab-df-spinner');\n",
              "      quickchartButtonEl.classList.add('colab-df-quickchart-complete');\n",
              "    }\n",
              "    (() => {\n",
              "      let quickchartButtonEl =\n",
              "        document.querySelector('#df-98a80730-3486-4950-9518-21c2f522109d button');\n",
              "      quickchartButtonEl.style.display =\n",
              "        google.colab.kernel.accessAllowed ? 'block' : 'none';\n",
              "    })();\n",
              "  </script>\n",
              "</div>\n",
              "\n",
              "    </div>\n",
              "  </div>\n"
            ],
            "application/vnd.google.colaboratory.intrinsic+json": {
              "type": "dataframe",
              "variable_name": "df",
              "summary": "{\n  \"name\": \"df\",\n  \"rows\": 45108,\n  \"fields\": [\n    {\n      \"column\": \"articles\",\n      \"properties\": {\n        \"dtype\": \"string\",\n        \"num_unique_values\": 44880,\n        \"samples\": [\n          \"james oliphant emily flitter cleveland reuters four years ago one republican candidate consistently hitting kind polling heights among presidential field real estate mogul donald trump reaching name mitt romney fact romney went capture party nomination least one basic reason trump recent surge dismissed aberration many pundits party strategists claim mean course trump command center stage first republican presidential debate thursday going wind party nominee year significant obstacles path history supporting liberal causes sclerotic campaign organization limited appeal far narrow swath republican voters still republicans especially outside washington urging party take trump bid seriously arguing question could shock world win primary craig robinson former chairman iowa republican party sees echoes current president trump run saying trump another product media environment obama brand donald trump brand end day really cool obama supporter really uncool mccain romney supporter said robinson neutral republican primary steve deace influential conservative radio host iowa said within republican party dismissing trump chances securing republican presidential nomination underestimating fed base feckless actions political party trump made incendiary comments mexican immigrants dominating polls suggest riding wave anti immigrant anti establishment fervor big question whether ride wave way republican nominating convention cleveland ohio july 2016 room grow going need one harder things politics bring scores new voters primary voting process deace said trump support within party moment appears relatively substantial compared rest presidential field also limited attracts male voters less educated less affluent less religious republican electorate whole according reuters ipsos survey almost 2 000 republicans conducted last month showed 61 percent trump supporters male almost half surveyed poll said religious half attended college almost 20 percent earned less 50 000 year win nomination trump would need widen appeal attracting social conservatives greater numbers well upscale college educated voters women voters end trump showing signs wanting celebrity contender slowly beginning build organizations key early primary states iowa new hampshire compete voters iowa trump hired chuck laudner well respected operative 2012 worked underfunded little known rick santorum candidate shocked national political scene tying romney caucuses religious conservative laudner signing trump viewed iowa surprise could mean trump able expand base support last month trump raised eyebrows told iowa audience never sought forgiveness god anything bring god picture trump said chuck laudner true believer christian right said douglas gross republican strategist iowa ideologically trump farther apart new hampshire trump already chairman county state part campaigns past 20 years new hampshire seeing right things done put good position primary said lou garguilo county co chair trump candidate appeal garguilo said love successful businessman built large business speaks plainly talks issues grave concern many us things like healthcare border security china important tells like garguilo said striking chord little doubt trump tapped segment party concerned immigration trade outsourcing erosion middle class jobs united states another successful businessman ross perot voiced similar concerns independent bid president 1992 secured 19 percent vote presence helped define issues race trump something similar republicans right election immigration said vincent devito republican election lawyer strategist worked romney 2012 donald trump made immigration trump anti establishment appeal contempt party orthodoxy also seen drawcards many voters frustrated political elite see disconnected issues matter middle class americans cbs news poll released week trump scored highest among republican candidates 30 percent voters said angry washington environment ripe anti washington anti politician candidacy republican establishment circles wagons people attracted said joe trippi strategist helped engineer democrat howard dean insurgent presidential bid 2004 trippi said large republican field 17 declared candidates could work trump advantage meaning would need smaller share republican electorate win primaries however improbable trump emerges nominee would bet trippi said win states 25 percent 30 percent vote easier said done cbs news poll showed trump highest negative ratings republican field recent celebrity candidate flameouts eight years ago contenders leading national polls summer 2007 rudolph giuliani ex new york mayor fred thompson former star tv law order gone race within six months reporting james oliphant emily flitter additional reporting steve holland editing ross colvin walking sleepy streets vista heights could forget election taking place meticulously manicured gardens frame suburban forever homes chairs sit front verandas good book helps afternoon slip away open garages reveal types lifestyles lived quintessential suburban setting bright coloured bikes equipment sorts family activities fill walls election lawn signs litter urban settings mostly absent along rows tuesday marked first day classes three schools northern peninsula cluster covid 19 cases region forced delayed reopening cautionary purposes affected schools cloud river academy roddickton bide arm h g fillier academy englee mary simms grade main brook monday 15 covid 19 cases connected cluster department health says continuing contact tracing portion northern peninsula moved introverts may rejoice cancelled plans lack social interactions covid 19 pandemic new study university alberta says isolation might good mental health anahita shokrkon phd student u department psychology conducted study summer 2020 found higher extroversion associated better mental health introversion however associated mental health issues extroverts general provincial monitoring nitrates 10 p e rivers shows levels rising according recently released report three streams wilmot dunk clyde nitrate levels canadian water quality guideline aquatic life source nitrates mostly agricultural fertilizer provincial report says environment minister steven myers said recent droughts expected culprit without timely rain plants absorb fertilizer washes n w chief public health officer closing jk 12 schools colleges trade schools yellowknife dettah n dilo least sept 24 covid 19 cases continued climb capital weekend u inflation rate rose slowest pace seven months august far less economists expecting hopeful sign inflation pressures may cooling u consumer price index rose 0 3 per cent august 0 5 per cent increase july 0 9 per cent surge june department labour reported tuesday smallest increase since 0 3 per cent rise clocked january august slowdown prices seen offering hope underlying u consumer prices increased slowest pace six months august used motor vehicle prices tumbled suggesting inflation probably peaked though could remain high amid persistent supply constraints broad slowdown price pressures reported labor department tuesday aligns federal reserve chair jerome powell long held belief high inflation transitory consumer price index excluding volatile food energy components edged 0 1 last month tokyo ap outgoing japanese prime minister yoshihide suga expected travel washington next week join three leaders called quad nations person summit grouping four nations united states japan australia india promoting free open indo pacific vision form security economic framework based democratic values counter china authoritarian approach chief cabinet secretary katsunobu kato told reporters jeff bridges says cancer remission covid 19 case rear view mirror actor shared good news website monday saying tumor shrank 12 inches size marble update said wrote back march sharing feeling better bridges said wife susan geston infected covid 19 january undergoing chemotherapy covid kicked asterisk asterisk pretty good dou london ap u k said tuesday offer third dose covid 19 vaccine everyone age 50 vulnerable people expert panel said boosters needed protect waning immunity winter health secretary sajid javid told lawmakers government accepted recommendation joint committee vaccination immunization would start offering booster shots next week world health organization asked wealthy nations de athens greece ap authorities greece tuesday opened investigation crash private plane israel killed prosecution witness corruption trial former israeli prime minister benjamin netanyahu haim geron former senior official israel ministry communications wife esther killed crash late monday island samos israeli foreign ministry identified victims 69 adding consular officials min one country highest covid 19 infection rates lowest vaccination rates hospital admissions soaring many surgeries medical care cancelled delayed weeks medical community called indoor mask mandates vaccine passports curb spread covid 19 political leadership repeatedly resists calls citing individual freedoms describes situation saskatchewan also american state alabama alabama healt conservative leader erin toole got specific mississauga experience stood behind port credit royal canadian legion edge credit river boats drifted along meandering water background framed lush greenery stone throw away one city independent breweries thrives regular commuter trains thundered past lakeshore west go line toole speech portrait mississauga snapshot city hopes largest u fuel line resumed partial operations tuesday oil gas facilities weathered hurricane nicholas landfall texas suffering less damage hurricane ida two weeks earlier rains flooding power outages affected texas louisiana still trying recover hurricane ida storm shuttered u gulf offshore oil gas production power outages houston area caused colonial pipeline pre emptively shut main gasoline distillate fuel lines company said notice shippers paris ap bordeaux french city transit station slave trade feared racism behind disfiguring african slave statue covered looked like white paint instead statue disfigured plaster art student city said tuesday legal complaint filed statue modeste testas whose original name al pouessi immediately cleaned discovery monday vandalism tuesday city bordeaux chatham kent health alliance unveiled new vaccination policy employees required fully immunized oct 31 working conjunction hospitals region hospital looking bolster safety organization public covid 19 vaccination best defense highly contagious virus best effort lessen impact fourth wave upon us alliance president ceo lori marshall explained marsh new york ap u women soccer star megan rapinoe gotten beverage bar edge room looked back throbbing crowd celebrities packed center airy petrie court met gala holding cocktail reception even world renowned athlete one first met gala little intimidating whoever seems always someone famous unless rihanna maybe rapinoe looked bit suddenly madrid ap leader catalonia northeastern spain announced excluding separatist party ruling regional coalition talks central government aimed solving tensions growing pro independence sentiment region catalan president pere aragon\\u00e8s also said urge spanish prime minister pedro s\\u00e0nchez accept referendum region independence meet wednesday barcelona catalan capital junior partner toronto store away cutoffs sandals yet weather network says still warm days come year network says fall forecast much canada expect spells warm temperatures next month mixed wide swings weather season typically brings chris scott chief meteorologist weather network says many canadians expect normal temperatures typical number rainy days says septemb prague ap czech president milos zeman hospitalized tuesday predecessor vaclav klaus undergoing tests hospital presidential office immediately comment zeman hospitalization confirmed prague military hospital details immediately given adviser zeman told czech public radio regular check zeman 76 heavy smoker suffered diabetes neuropathy linked trouble\",\n          \"sections tv featured nbc follow nbc news conditions chinese factory designer clothes manufactured including ivanka trump fashion line entirely snuff 80 workers punched nearly 60 hours week many making 60 period according outside audit last fall facility producing clothes new york based g iii apparel group ltd exclusive license manufacture blouses dresses items trump label fair labor association report released monday specifically mention name factory say whether workers tasked trump related project time audit g iii also partnerships calvin klein donna karan kenneth cole karl lagerfeld according website statement provided nbc news wednesday g iii said factories routinely audited highly experienced team well third party groups fair labor association monitors industry association said auditors october uncovered two dozen violations u n international labor organization including overtime work exceeded legally required limit 36 hours per month workers found accumulated another 42 hours much 82 hours per month past year related trump made america slogan fit ivanka clothing line audit said factory workers took home equivalent roughly 255 284 u dollars month fair labor association report however find factory violation failing pay minimum wages g iii said infractions discovered corrected corrected goal always attain maintain best labor conditions possible factories spokeswoman trump forwarded request response report fashion company immediately comment wednesday president donald trump eldest daughter stepped management position company march order take unpaid advisory role white house germany week high powered conference women empowerment made issue equal pay workplace president trump also criticized reports merchandise trump organization brand made outside u including pakistan bangladesh last week signed executive order tighten restrictions federal agencies buy american made products first repeatedly urged american companies manufacture u slammed china allegedly stealing u jobs ivanka trump clothing line targeted activists called boycotts earlier year companies support trump brand nordstrom said dropping line poor performer g iii annual report filed earlier month revealed brand strong 2016 17 9 million increase net sales erik ortiz staff writer nbc news focusing racial injustice social inequality 2021 nbc universal\",\n          \"tennessee general assembly passed law wednesday ban critical race theory taught public schools law forbids state schools teaching u fundamentally racist nation person inherently privileged oppressed race entire race bears responsibility past actions people another race critical race theory asserts among things u institutions racist definition prohibition would enforced withholding funding schools engage critical race theory indoctrination critical race theory teaches american democracy lie teaches rule law exist instead series power struggles among racial groups state senator brian kelsey republican wrote twitter following vote harmful students antithetical everything stand americans tennesseans governor bill lee office told fox13 intends sign bill reaches desk unclear critical race theory taught tennessee schools kelsey cited new york times 1619 project example curricula guided critical race theory lead 1619 project essay falsely asserted american revolution driven desire preserve slavery project used develop curriculum adopted number school districts state senator brenda gilmore democrat objected passage legislation contrary people may think african american cast blame think admit slavery occur gilmore said acknowledge wrongs society even difficult conversation result slavery 2021 racism still exist similar legislation pending several states including texas idaho governor brad little signed law last week prohibiting critical race theory instruction schools claim widespread systemic indoctrination occurring idaho classrooms serious allegation little said signing bill worryingly undermines popular support public education idaho send tip news team nr\"\n        ],\n        \"semantic_type\": \"\",\n        \"description\": \"\"\n      }\n    },\n    {\n      \"column\": \"label\",\n      \"properties\": {\n        \"dtype\": \"number\",\n        \"std\": 0,\n        \"min\": 0,\n        \"max\": 1,\n        \"num_unique_values\": 2,\n        \"samples\": [\n          0,\n          1\n        ],\n        \"semantic_type\": \"\",\n        \"description\": \"\"\n      }\n    }\n  ]\n}"
            }
          },
          "metadata": {},
          "execution_count": 13
        }
      ]
    },
    {
      "cell_type": "code",
      "source": [
        "nlp = spacy.load(\"en_core_web_sm\")"
      ],
      "metadata": {
        "id": "lbq_TN8PzRbb"
      },
      "execution_count": 14,
      "outputs": []
    },
    {
      "cell_type": "code",
      "source": [
        "def tokenize_text(text):\n",
        "    doc = nlp(text)\n",
        "    return [token.text for token in doc]"
      ],
      "metadata": {
        "id": "9BIqU27KzWH7"
      },
      "execution_count": 15,
      "outputs": []
    },
    {
      "cell_type": "code",
      "source": [
        "df.value_counts('label')"
      ],
      "metadata": {
        "colab": {
          "base_uri": "https://localhost:8080/",
          "height": 178
        },
        "id": "bgGLXUCIzW5i",
        "outputId": "20d82a76-981f-4ee5-aa61-776ff5f014a4"
      },
      "execution_count": 16,
      "outputs": [
        {
          "output_type": "execute_result",
          "data": {
            "text/plain": [
              "label\n",
              "0    22554\n",
              "1    22554\n",
              "Name: count, dtype: int64"
            ],
            "text/html": [
              "<div>\n",
              "<style scoped>\n",
              "    .dataframe tbody tr th:only-of-type {\n",
              "        vertical-align: middle;\n",
              "    }\n",
              "\n",
              "    .dataframe tbody tr th {\n",
              "        vertical-align: top;\n",
              "    }\n",
              "\n",
              "    .dataframe thead th {\n",
              "        text-align: right;\n",
              "    }\n",
              "</style>\n",
              "<table border=\"1\" class=\"dataframe\">\n",
              "  <thead>\n",
              "    <tr style=\"text-align: right;\">\n",
              "      <th></th>\n",
              "      <th>count</th>\n",
              "    </tr>\n",
              "    <tr>\n",
              "      <th>label</th>\n",
              "      <th></th>\n",
              "    </tr>\n",
              "  </thead>\n",
              "  <tbody>\n",
              "    <tr>\n",
              "      <th>0</th>\n",
              "      <td>22554</td>\n",
              "    </tr>\n",
              "    <tr>\n",
              "      <th>1</th>\n",
              "      <td>22554</td>\n",
              "    </tr>\n",
              "  </tbody>\n",
              "</table>\n",
              "</div><br><label><b>dtype:</b> int64</label>"
            ]
          },
          "metadata": {},
          "execution_count": 16
        }
      ]
    },
    {
      "cell_type": "code",
      "source": [
        "sampled_df = pd.concat([\n",
        "    df[df['label'] == 0].sample(n=22554, random_state=42),\n",
        "    df[df['label'] == 1].sample(n=22554, random_state=42)\n",
        "])"
      ],
      "metadata": {
        "id": "BSAx9q9mzXoD"
      },
      "execution_count": 17,
      "outputs": []
    },
    {
      "cell_type": "code",
      "source": [
        "sampled_df.reset_index(drop=True, inplace=True)"
      ],
      "metadata": {
        "id": "Zz1teOvqzY-q"
      },
      "execution_count": 18,
      "outputs": []
    },
    {
      "cell_type": "code",
      "source": [
        "print(sampled_df.value_counts('label'))"
      ],
      "metadata": {
        "colab": {
          "base_uri": "https://localhost:8080/"
        },
        "id": "-dDs0g4EzZ87",
        "outputId": "b5414f0b-5f57-4265-917e-717e6ffe7f0c"
      },
      "execution_count": 19,
      "outputs": [
        {
          "output_type": "stream",
          "name": "stdout",
          "text": [
            "label\n",
            "0    22554\n",
            "1    22554\n",
            "Name: count, dtype: int64\n"
          ]
        }
      ]
    },
    {
      "cell_type": "code",
      "source": [
        "df = sampled_df"
      ],
      "metadata": {
        "id": "tVR4D24ezaq6"
      },
      "execution_count": 20,
      "outputs": []
    },
    {
      "cell_type": "code",
      "source": [
        "df.head()"
      ],
      "metadata": {
        "colab": {
          "base_uri": "https://localhost:8080/",
          "height": 206
        },
        "id": "8LxyotNhieXB",
        "outputId": "9d91e4f4-faa4-4bbd-fe5a-e4314779fed3"
      },
      "execution_count": 21,
      "outputs": [
        {
          "output_type": "execute_result",
          "data": {
            "text/plain": [
              "                                            articles  label\n",
              "0  david martosko us political editor com washing...      0\n",
              "1  indeed obamacare passed 2009 without single re...      0\n",
              "2  former alaska governor sarah palin blasted hyp...      0\n",
              "3  discover thomson david ingram 5 min read new y...      0\n",
              "4  uc berkeley welcoming place conservative stude...      0"
            ],
            "text/html": [
              "\n",
              "  <div id=\"df-6ec38911-4cd8-4791-98f9-ad574a52efff\" class=\"colab-df-container\">\n",
              "    <div>\n",
              "<style scoped>\n",
              "    .dataframe tbody tr th:only-of-type {\n",
              "        vertical-align: middle;\n",
              "    }\n",
              "\n",
              "    .dataframe tbody tr th {\n",
              "        vertical-align: top;\n",
              "    }\n",
              "\n",
              "    .dataframe thead th {\n",
              "        text-align: right;\n",
              "    }\n",
              "</style>\n",
              "<table border=\"1\" class=\"dataframe\">\n",
              "  <thead>\n",
              "    <tr style=\"text-align: right;\">\n",
              "      <th></th>\n",
              "      <th>articles</th>\n",
              "      <th>label</th>\n",
              "    </tr>\n",
              "  </thead>\n",
              "  <tbody>\n",
              "    <tr>\n",
              "      <th>0</th>\n",
              "      <td>david martosko us political editor com washing...</td>\n",
              "      <td>0</td>\n",
              "    </tr>\n",
              "    <tr>\n",
              "      <th>1</th>\n",
              "      <td>indeed obamacare passed 2009 without single re...</td>\n",
              "      <td>0</td>\n",
              "    </tr>\n",
              "    <tr>\n",
              "      <th>2</th>\n",
              "      <td>former alaska governor sarah palin blasted hyp...</td>\n",
              "      <td>0</td>\n",
              "    </tr>\n",
              "    <tr>\n",
              "      <th>3</th>\n",
              "      <td>discover thomson david ingram 5 min read new y...</td>\n",
              "      <td>0</td>\n",
              "    </tr>\n",
              "    <tr>\n",
              "      <th>4</th>\n",
              "      <td>uc berkeley welcoming place conservative stude...</td>\n",
              "      <td>0</td>\n",
              "    </tr>\n",
              "  </tbody>\n",
              "</table>\n",
              "</div>\n",
              "    <div class=\"colab-df-buttons\">\n",
              "\n",
              "  <div class=\"colab-df-container\">\n",
              "    <button class=\"colab-df-convert\" onclick=\"convertToInteractive('df-6ec38911-4cd8-4791-98f9-ad574a52efff')\"\n",
              "            title=\"Convert this dataframe to an interactive table.\"\n",
              "            style=\"display:none;\">\n",
              "\n",
              "  <svg xmlns=\"http://www.w3.org/2000/svg\" height=\"24px\" viewBox=\"0 -960 960 960\">\n",
              "    <path d=\"M120-120v-720h720v720H120Zm60-500h600v-160H180v160Zm220 220h160v-160H400v160Zm0 220h160v-160H400v160ZM180-400h160v-160H180v160Zm440 0h160v-160H620v160ZM180-180h160v-160H180v160Zm440 0h160v-160H620v160Z\"/>\n",
              "  </svg>\n",
              "    </button>\n",
              "\n",
              "  <style>\n",
              "    .colab-df-container {\n",
              "      display:flex;\n",
              "      gap: 12px;\n",
              "    }\n",
              "\n",
              "    .colab-df-convert {\n",
              "      background-color: #E8F0FE;\n",
              "      border: none;\n",
              "      border-radius: 50%;\n",
              "      cursor: pointer;\n",
              "      display: none;\n",
              "      fill: #1967D2;\n",
              "      height: 32px;\n",
              "      padding: 0 0 0 0;\n",
              "      width: 32px;\n",
              "    }\n",
              "\n",
              "    .colab-df-convert:hover {\n",
              "      background-color: #E2EBFA;\n",
              "      box-shadow: 0px 1px 2px rgba(60, 64, 67, 0.3), 0px 1px 3px 1px rgba(60, 64, 67, 0.15);\n",
              "      fill: #174EA6;\n",
              "    }\n",
              "\n",
              "    .colab-df-buttons div {\n",
              "      margin-bottom: 4px;\n",
              "    }\n",
              "\n",
              "    [theme=dark] .colab-df-convert {\n",
              "      background-color: #3B4455;\n",
              "      fill: #D2E3FC;\n",
              "    }\n",
              "\n",
              "    [theme=dark] .colab-df-convert:hover {\n",
              "      background-color: #434B5C;\n",
              "      box-shadow: 0px 1px 3px 1px rgba(0, 0, 0, 0.15);\n",
              "      filter: drop-shadow(0px 1px 2px rgba(0, 0, 0, 0.3));\n",
              "      fill: #FFFFFF;\n",
              "    }\n",
              "  </style>\n",
              "\n",
              "    <script>\n",
              "      const buttonEl =\n",
              "        document.querySelector('#df-6ec38911-4cd8-4791-98f9-ad574a52efff button.colab-df-convert');\n",
              "      buttonEl.style.display =\n",
              "        google.colab.kernel.accessAllowed ? 'block' : 'none';\n",
              "\n",
              "      async function convertToInteractive(key) {\n",
              "        const element = document.querySelector('#df-6ec38911-4cd8-4791-98f9-ad574a52efff');\n",
              "        const dataTable =\n",
              "          await google.colab.kernel.invokeFunction('convertToInteractive',\n",
              "                                                    [key], {});\n",
              "        if (!dataTable) return;\n",
              "\n",
              "        const docLinkHtml = 'Like what you see? Visit the ' +\n",
              "          '<a target=\"_blank\" href=https://colab.research.google.com/notebooks/data_table.ipynb>data table notebook</a>'\n",
              "          + ' to learn more about interactive tables.';\n",
              "        element.innerHTML = '';\n",
              "        dataTable['output_type'] = 'display_data';\n",
              "        await google.colab.output.renderOutput(dataTable, element);\n",
              "        const docLink = document.createElement('div');\n",
              "        docLink.innerHTML = docLinkHtml;\n",
              "        element.appendChild(docLink);\n",
              "      }\n",
              "    </script>\n",
              "  </div>\n",
              "\n",
              "\n",
              "<div id=\"df-e5fe6cf6-6971-420c-8f44-f7aa3a57f613\">\n",
              "  <button class=\"colab-df-quickchart\" onclick=\"quickchart('df-e5fe6cf6-6971-420c-8f44-f7aa3a57f613')\"\n",
              "            title=\"Suggest charts\"\n",
              "            style=\"display:none;\">\n",
              "\n",
              "<svg xmlns=\"http://www.w3.org/2000/svg\" height=\"24px\"viewBox=\"0 0 24 24\"\n",
              "     width=\"24px\">\n",
              "    <g>\n",
              "        <path d=\"M19 3H5c-1.1 0-2 .9-2 2v14c0 1.1.9 2 2 2h14c1.1 0 2-.9 2-2V5c0-1.1-.9-2-2-2zM9 17H7v-7h2v7zm4 0h-2V7h2v10zm4 0h-2v-4h2v4z\"/>\n",
              "    </g>\n",
              "</svg>\n",
              "  </button>\n",
              "\n",
              "<style>\n",
              "  .colab-df-quickchart {\n",
              "      --bg-color: #E8F0FE;\n",
              "      --fill-color: #1967D2;\n",
              "      --hover-bg-color: #E2EBFA;\n",
              "      --hover-fill-color: #174EA6;\n",
              "      --disabled-fill-color: #AAA;\n",
              "      --disabled-bg-color: #DDD;\n",
              "  }\n",
              "\n",
              "  [theme=dark] .colab-df-quickchart {\n",
              "      --bg-color: #3B4455;\n",
              "      --fill-color: #D2E3FC;\n",
              "      --hover-bg-color: #434B5C;\n",
              "      --hover-fill-color: #FFFFFF;\n",
              "      --disabled-bg-color: #3B4455;\n",
              "      --disabled-fill-color: #666;\n",
              "  }\n",
              "\n",
              "  .colab-df-quickchart {\n",
              "    background-color: var(--bg-color);\n",
              "    border: none;\n",
              "    border-radius: 50%;\n",
              "    cursor: pointer;\n",
              "    display: none;\n",
              "    fill: var(--fill-color);\n",
              "    height: 32px;\n",
              "    padding: 0;\n",
              "    width: 32px;\n",
              "  }\n",
              "\n",
              "  .colab-df-quickchart:hover {\n",
              "    background-color: var(--hover-bg-color);\n",
              "    box-shadow: 0 1px 2px rgba(60, 64, 67, 0.3), 0 1px 3px 1px rgba(60, 64, 67, 0.15);\n",
              "    fill: var(--button-hover-fill-color);\n",
              "  }\n",
              "\n",
              "  .colab-df-quickchart-complete:disabled,\n",
              "  .colab-df-quickchart-complete:disabled:hover {\n",
              "    background-color: var(--disabled-bg-color);\n",
              "    fill: var(--disabled-fill-color);\n",
              "    box-shadow: none;\n",
              "  }\n",
              "\n",
              "  .colab-df-spinner {\n",
              "    border: 2px solid var(--fill-color);\n",
              "    border-color: transparent;\n",
              "    border-bottom-color: var(--fill-color);\n",
              "    animation:\n",
              "      spin 1s steps(1) infinite;\n",
              "  }\n",
              "\n",
              "  @keyframes spin {\n",
              "    0% {\n",
              "      border-color: transparent;\n",
              "      border-bottom-color: var(--fill-color);\n",
              "      border-left-color: var(--fill-color);\n",
              "    }\n",
              "    20% {\n",
              "      border-color: transparent;\n",
              "      border-left-color: var(--fill-color);\n",
              "      border-top-color: var(--fill-color);\n",
              "    }\n",
              "    30% {\n",
              "      border-color: transparent;\n",
              "      border-left-color: var(--fill-color);\n",
              "      border-top-color: var(--fill-color);\n",
              "      border-right-color: var(--fill-color);\n",
              "    }\n",
              "    40% {\n",
              "      border-color: transparent;\n",
              "      border-right-color: var(--fill-color);\n",
              "      border-top-color: var(--fill-color);\n",
              "    }\n",
              "    60% {\n",
              "      border-color: transparent;\n",
              "      border-right-color: var(--fill-color);\n",
              "    }\n",
              "    80% {\n",
              "      border-color: transparent;\n",
              "      border-right-color: var(--fill-color);\n",
              "      border-bottom-color: var(--fill-color);\n",
              "    }\n",
              "    90% {\n",
              "      border-color: transparent;\n",
              "      border-bottom-color: var(--fill-color);\n",
              "    }\n",
              "  }\n",
              "</style>\n",
              "\n",
              "  <script>\n",
              "    async function quickchart(key) {\n",
              "      const quickchartButtonEl =\n",
              "        document.querySelector('#' + key + ' button');\n",
              "      quickchartButtonEl.disabled = true;  // To prevent multiple clicks.\n",
              "      quickchartButtonEl.classList.add('colab-df-spinner');\n",
              "      try {\n",
              "        const charts = await google.colab.kernel.invokeFunction(\n",
              "            'suggestCharts', [key], {});\n",
              "      } catch (error) {\n",
              "        console.error('Error during call to suggestCharts:', error);\n",
              "      }\n",
              "      quickchartButtonEl.classList.remove('colab-df-spinner');\n",
              "      quickchartButtonEl.classList.add('colab-df-quickchart-complete');\n",
              "    }\n",
              "    (() => {\n",
              "      let quickchartButtonEl =\n",
              "        document.querySelector('#df-e5fe6cf6-6971-420c-8f44-f7aa3a57f613 button');\n",
              "      quickchartButtonEl.style.display =\n",
              "        google.colab.kernel.accessAllowed ? 'block' : 'none';\n",
              "    })();\n",
              "  </script>\n",
              "</div>\n",
              "\n",
              "    </div>\n",
              "  </div>\n"
            ],
            "application/vnd.google.colaboratory.intrinsic+json": {
              "type": "dataframe",
              "variable_name": "df",
              "summary": "{\n  \"name\": \"df\",\n  \"rows\": 45108,\n  \"fields\": [\n    {\n      \"column\": \"articles\",\n      \"properties\": {\n        \"dtype\": \"string\",\n        \"num_unique_values\": 44880,\n        \"samples\": [\n          \"results us led joint strike syria best reaction recent chemical attack assad regime holds david andelman cnn france pushed hard option publicly commenting red line crossed president trump ultimately biggest decision maker would well follow plan refrains stronger military intervention risks mirroring mistake barrack obama made 2013 punishing assad transgressions allowing syrian leader go without punishment would make trump look weak could open door atrocities civilians half hearted western intervention syria since 2011 dragged conflict fueling civilian death toll little improve situation argues simon jenkins guardian sooner assad wins sooner carnage end us strike airbase syrian chemical weapons attack 2017 little changed international condemnation done nothing sway assad allies fact western bombing campaigns led 8 000 civilian deaths mosul one estimate chemical weapons may cruel cluster bombs deadly west stop prolonging horrors intervening perspective civil rights united effort every group please enter valid email\",\n          \"material may published broadcast rewritten redistributed 2021 fox news network llc rights reserved quotes displayed real time delayed least 15 minutes market data provided factset powered implemented factset digital solutions legal statement mutual fund etf data provided refinitiv lipper happening panel weighs health official oversaw problem plagued launch federal obamacare website retiring obama administration confirmed monday michelle snyder 2 official centers medicare medicaid services leaving post departure announced cms administrator marilyn tavenner though republicans democrats calling heads roll botched launch program particularly healthcare gov unclear whether snyder resignation point already planned tavenner claimed snyder originally preparing leave year ago characteristically chose postpone retirement federal service request help challenges facing cms 2013 statement tavenner included criticism snyder performance past year praised 41 years outstanding public service tavenner added agency losing key member leadership team celebrate michelle dedication mission provides vital health care services tens millions fellow americans medicare medicaid programs snyder well known official name surfaced connection botched rollout oct 30 hearing time health human services secretary kathleen sebelius revealed snyder chief operating officer charge launch questioning rep marsha blackburn r tenn sebelius tried shoulder blame michelle snyder one responsible debacle blackburn asked well excuse congresswoman sebelius answered michelle snyder responsible debacle hold accountable debacle responsible despite widespread technical problems meager enrollment outset administration announced number enrollees health care site surpassed 1 million administration still long way go reach target along state based exchanges 7 million end march get stories need know powerful name news delivered first thing every morning inbox subscribed successfully subscribed newsletter material may published broadcast rewritten redistributed 2021 fox news network llc rights reserved quotes displayed real time delayed least 15 minutes market data provided factset powered implemented factset digital solutions legal statement mutual fund etf data provided refinitiv lipper\",\n          \"congress final agreement comes weeks negotiations two leaders senate majority leader chuck schumer speaks news conference capitol feb 2 2021 marianne levine 02 03 2021 09 49 est updated 02 03 2021 08 44 pm est link copied senate majority leader chuck schumer senate minority leader mitch mcconnell reached deal wednesday power sharing agreement governing upper chamber final agreement called organizing resolution evenly split senate allows democrats take control committees comes weeks negotiation two leaders senate approved resolution later wednesday happy report morning leadership parties finalized organizing resolution senate schumer said adding approval resolution means committees promptly set get work statement mcconnell said power sharing agreement almost identical 2001 agreement allow senate fairly run evenly split body lack organizing resolution created unusual situation senate republicans still technically held committee gavels overseeing confirmation process president joe biden nominees even though democrats hold majority also meant new members senate yet received committee assignments schumer mcconnell announced new committee assignments mcconnell initially asked senate democrats commit protecting legislative filibuster part agreement schumer rejected mcconnell dropped demand sens joe manchin w va kyrsten sinema ariz publicly reiterated support eliminating 60 vote threshold part agreement schumer pledged would limit amendments unless dilatory measures prevent senate taking action leave alternative mcconnell meanwhile said would seek avoid lengthy debates procedural votes legislation significant bipartisan support addition power sharing agreement schumer announced sonceria ann berry become secretary senate starting march 1 replacing julie adams berry first african american eighth woman serve role replacing secretary senate winning majority unusual either party new agreement resemble 2001 power sharing agreement former senate leaders trent lott tom daschle pact also took weeks negotiate unlike year 2001 accord reached newly elected president george w bush officially took office change party control chamber senate democrats win majority jan 5 georgia runoff races democrats jon ossoff raphael warnock senate seats vice president kamala harris tie breaking vote democrats link copied 2021 llc\"\n        ],\n        \"semantic_type\": \"\",\n        \"description\": \"\"\n      }\n    },\n    {\n      \"column\": \"label\",\n      \"properties\": {\n        \"dtype\": \"number\",\n        \"std\": 0,\n        \"min\": 0,\n        \"max\": 1,\n        \"num_unique_values\": 2,\n        \"samples\": [\n          1,\n          0\n        ],\n        \"semantic_type\": \"\",\n        \"description\": \"\"\n      }\n    }\n  ]\n}"
            }
          },
          "metadata": {},
          "execution_count": 21
        }
      ]
    },
    {
      "cell_type": "markdown",
      "source": [
        "### Modelo LSTM"
      ],
      "metadata": {
        "id": "q8IKWk6891MY"
      }
    },
    {
      "cell_type": "code",
      "source": [
        "from sklearn.model_selection import train_test_split\n",
        "from tensorflow.keras.preprocessing.text import Tokenizer\n",
        "from tensorflow.keras.preprocessing.sequence import pad_sequences\n",
        "from tensorflow.keras.utils import to_categorical\n",
        "from sklearn.preprocessing import LabelEncoder\n",
        "from tensorflow.keras.models import Sequential\n",
        "from tensorflow.keras.layers import Embedding, LSTM, Dropout, Dense\n",
        "from tensorflow.keras.regularizers import l2\n",
        "import matplotlib.pyplot as plt"
      ],
      "metadata": {
        "id": "B4U6z9V4zbgp"
      },
      "execution_count": 22,
      "outputs": []
    },
    {
      "cell_type": "code",
      "source": [
        "train_df, test_df = train_test_split(df, test_size=0.2, random_state=42, stratify=df['label'])"
      ],
      "metadata": {
        "id": "-JMjYtaXzck6"
      },
      "execution_count": 23,
      "outputs": []
    },
    {
      "cell_type": "code",
      "source": [
        "tokenizer = Tokenizer(num_words=10000)\n",
        "tokenizer.fit_on_texts(train_df['articles'])"
      ],
      "metadata": {
        "id": "x6ikB5acz85Z"
      },
      "execution_count": 24,
      "outputs": []
    },
    {
      "cell_type": "code",
      "source": [
        "tokenizer.fit_on_texts(test_df['articles'])"
      ],
      "metadata": {
        "id": "9X8OY1_c0AM6"
      },
      "execution_count": 25,
      "outputs": []
    },
    {
      "cell_type": "code",
      "source": [
        "X_train = tokenizer.texts_to_sequences(train_df['articles'])\n",
        "X_train = pad_sequences(X_train, maxlen=100)\n",
        "\n",
        "X_test = tokenizer.texts_to_sequences(test_df['articles'])\n",
        "X_test = pad_sequences(X_test, maxlen=100)"
      ],
      "metadata": {
        "id": "ZgyDDMcs0BLp"
      },
      "execution_count": 26,
      "outputs": []
    },
    {
      "cell_type": "code",
      "source": [
        "label_encoder = LabelEncoder()\n",
        "\n",
        "y_train = label_encoder.fit_transform(train_df['label'])\n",
        "y_train = to_categorical(y_train)\n",
        "\n",
        "y_test = label_encoder.transform(test_df['label'])\n",
        "y_test = to_categorical(y_test)"
      ],
      "metadata": {
        "id": "q79M1VrU0Cap"
      },
      "execution_count": 27,
      "outputs": []
    },
    {
      "cell_type": "code",
      "source": [
        "model = Sequential([\n",
        "    Embedding(input_dim=10000, output_dim=200),\n",
        "    LSTM(200, dropout=0.5, recurrent_dropout=0.5),\n",
        "    Dropout(0.5),\n",
        "    Dense(len(label_encoder.classes_), activation='softmax', kernel_regularizer=l2(0.5))\n",
        "])"
      ],
      "metadata": {
        "id": "u7vBkgDU0DoZ"
      },
      "execution_count": 28,
      "outputs": []
    },
    {
      "cell_type": "code",
      "source": [
        "model.compile(optimizer='adam', loss='binary_crossentropy', metrics=['accuracy']) # tô usando entropia cruzada como visto nas aulas, e adam pois ele é muito bom.\n",
        "\n",
        "history = model.fit(X_train, y_train, epochs=5, batch_size=64, validation_split=0.1)\n",
        "\n",
        "loss, accuracy = model.evaluate(X_test, y_test)\n",
        "print(f'Acurácia final do modelo: {accuracy}')"
      ],
      "metadata": {
        "id": "oI4Zbzso0Eca",
        "colab": {
          "base_uri": "https://localhost:8080/"
        },
        "outputId": "f6c909fe-9c37-44cb-f8d2-824205e171be"
      },
      "execution_count": 29,
      "outputs": [
        {
          "output_type": "stream",
          "name": "stdout",
          "text": [
            "Epoch 1/5\n",
            "\u001b[1m508/508\u001b[0m \u001b[32m━━━━━━━━━━━━━━━━━━━━\u001b[0m\u001b[37m\u001b[0m \u001b[1m279s\u001b[0m 543ms/step - accuracy: 0.6970 - loss: 1.2076 - val_accuracy: 0.7592 - val_loss: 0.5107\n",
            "Epoch 2/5\n",
            "\u001b[1m508/508\u001b[0m \u001b[32m━━━━━━━━━━━━━━━━━━━━\u001b[0m\u001b[37m\u001b[0m \u001b[1m289s\u001b[0m 479ms/step - accuracy: 0.7850 - loss: 0.4903 - val_accuracy: 0.7678 - val_loss: 0.4911\n",
            "Epoch 3/5\n",
            "\u001b[1m508/508\u001b[0m \u001b[32m━━━━━━━━━━━━━━━━━━━━\u001b[0m\u001b[37m\u001b[0m \u001b[1m258s\u001b[0m 471ms/step - accuracy: 0.8186 - loss: 0.4466 - val_accuracy: 0.7684 - val_loss: 0.4941\n",
            "Epoch 4/5\n",
            "\u001b[1m508/508\u001b[0m \u001b[32m━━━━━━━━━━━━━━━━━━━━\u001b[0m\u001b[37m\u001b[0m \u001b[1m260s\u001b[0m 467ms/step - accuracy: 0.8299 - loss: 0.4214 - val_accuracy: 0.7686 - val_loss: 0.5015\n",
            "Epoch 5/5\n",
            "\u001b[1m508/508\u001b[0m \u001b[32m━━━━━━━━━━━━━━━━━━━━\u001b[0m\u001b[37m\u001b[0m \u001b[1m262s\u001b[0m 467ms/step - accuracy: 0.8419 - loss: 0.4057 - val_accuracy: 0.7675 - val_loss: 0.4942\n",
            "\u001b[1m282/282\u001b[0m \u001b[32m━━━━━━━━━━━━━━━━━━━━\u001b[0m\u001b[37m\u001b[0m \u001b[1m27s\u001b[0m 96ms/step - accuracy: 0.7749 - loss: 0.4888\n",
            "Acurácia final do modelo: 0.7737752199172974\n"
          ]
        }
      ]
    },
    {
      "cell_type": "markdown",
      "source": [
        "### Visualizando métricas de acurácia"
      ],
      "metadata": {
        "id": "QS7QIXyr9vTL"
      }
    },
    {
      "cell_type": "code",
      "source": [
        "train_loss = history.history['loss']\n",
        "val_loss = history.history['val_loss']\n",
        "train_accuracy = history.history['accuracy']\n",
        "val_accuracy = history.history['val_accuracy']\n",
        "\n",
        "plt.plot(train_accuracy, label='Acurácia Treino', color=\"b\")\n",
        "plt.plot(val_accuracy, label='Acurácia Validação', color=\"g\")\n",
        "plt.xlabel('Época')\n",
        "plt.ylabel('Acurácia')\n",
        "plt.legend()\n",
        "plt.show()\n",
        "\n",
        "plt.plot(train_loss, label='Perda Treino', color=\"b\")\n",
        "plt.plot(val_loss, label='Perda Validação', color=\"g\")\n",
        "plt.xlabel('Época')\n",
        "plt.ylabel('Perda')\n",
        "plt.legend()\n",
        "plt.show()"
      ],
      "metadata": {
        "id": "Fkim3x0V0FmB",
        "colab": {
          "base_uri": "https://localhost:8080/",
          "height": 885
        },
        "outputId": "3823a1ed-07e5-463a-9750-1f5e4588e83e"
      },
      "execution_count": 40,
      "outputs": [
        {
          "output_type": "display_data",
          "data": {
            "text/plain": [
              "<Figure size 640x480 with 1 Axes>"
            ],
            "image/png": "[encoded data removed]"
          },
          "metadata": {}
        },
        {
          "output_type": "display_data",
          "data": {
            "text/plain": [
              "<Figure size 640x480 with 1 Axes>"
            ],
            "image/png": "[encoded data removed]"
          },
          "metadata": {}
        }
      ]
    },
    {
      "cell_type": "markdown",
      "source": [
        "### Matriz de confusão"
      ],
      "metadata": {
        "id": "H8Se224CsH3W"
      }
    },
    {
      "cell_type": "code",
      "source": [
        "from sklearn.metrics import confusion_matrix, ConfusionMatrixDisplay\n",
        "import numpy as np"
      ],
      "metadata": {
        "id": "MnrVsfJLtiA_"
      },
      "execution_count": 31,
      "outputs": []
    },
    {
      "cell_type": "code",
      "source": [
        "def plot_confusion_matrix(y_true, y_pred, classes):\n",
        "    cm = confusion_matrix(y_true, y_pred)\n",
        "    disp = ConfusionMatrixDisplay(confusion_matrix=cm, display_labels=classes)\n",
        "    disp.plot(cmap='Blues')\n",
        "    plt.title('Matriz de Confusão')\n",
        "    plt.show()\n",
        "\n",
        "y_pred = model.predict(X_test)\n",
        "y_pred_classes = np.argmax(y_pred, axis=1)\n",
        "y_test_classes = np.argmax(y_test, axis=1)\n",
        "\n",
        "plot_confusion_matrix(y_test_classes, y_pred_classes, label_encoder.classes_)"
      ],
      "metadata": {
        "colab": {
          "base_uri": "https://localhost:8080/",
          "height": 490
        },
        "id": "RD6EpPtesKtf",
        "outputId": "0cc8847d-a3c3-4ef5-b4c3-6d17c5d96f2f"
      },
      "execution_count": 32,
      "outputs": [
        {
          "output_type": "stream",
          "name": "stdout",
          "text": [
            "\u001b[1m282/282\u001b[0m \u001b[32m━━━━━━━━━━━━━━━━━━━━\u001b[0m\u001b[37m\u001b[0m \u001b[1m29s\u001b[0m 102ms/step\n"
          ]
        },
        {
          "output_type": "display_data",
          "data": {
            "text/plain": [
              "<Figure size 640x480 with 2 Axes>"
            ],
            "image/png": "[encoded data removed]"
          },
          "metadata": {}
        }
      ]
    },
    {
      "cell_type": "markdown",
      "source": [
        "### Exemplo de classificação"
      ],
      "metadata": {
        "id": "VvyeualKt2FV"
      }
    },
    {
      "cell_type": "code",
      "source": [
        "def show_classification_examples(X_test, y_test_classes, y_pred_classes, articles):\n",
        "    correct_idx = np.where(y_test_classes == y_pred_classes)[0]\n",
        "    incorrect_idx = np.where(y_test_classes != y_pred_classes)[0]\n",
        "\n",
        "    if len(correct_idx) > 0:\n",
        "        idx = correct_idx[0]\n",
        "        print(f\"Exemplo classificado corretamente:\\nArtigo: {articles[idx]}\\nClasse verdadeira: {label_encoder.classes_[y_test_classes[idx]]}\\nClasse predita: {label_encoder.classes_[y_pred_classes[idx]]}\")\n",
        "\n",
        "    print(\"\\n\")\n",
        "\n",
        "    if len(incorrect_idx) > 0:\n",
        "        idx = incorrect_idx[0]\n",
        "        print(f\"Exemplo classificado incorretamente:\\nArtigo: {articles[idx]}\\nClasse verdadeira: {label_encoder.classes_[y_test_classes[idx]]}\\nClasse predita: {label_encoder.classes_[y_pred_classes[idx]]}\")\n",
        "\n",
        "show_classification_examples(X_test, y_test_classes, y_pred_classes, test_df['articles'].values)"
      ],
      "metadata": {
        "colab": {
          "base_uri": "https://localhost:8080/"
        },
        "id": "2qiJtdkGtfUI",
        "outputId": "807336ce-144f-42f2-a418-c80de2a89d6e"
      },
      "execution_count": 33,
      "outputs": [
        {
          "output_type": "stream",
          "name": "stdout",
          "text": [
            "Exemplo classificado corretamente:\n",
            "Artigo: paris mayor anne hidalgo took another shot fox news interview aired week saying channel reporting muslim go zones city lie serious time hidalgo spoke cnn city planned lawsuit fox news coverage supposed go zones wake terror attacks islamic extremists earlier year paris fox eventually issued multiple corrections said credible information support idea non muslims allowed parts england france world dangerously tip seen hidalgo said according cnn translation accept type talk adds difficulty though explain details lawsuit fox said city took legal action paris high court said remained angry fox reporting economic consequences united states suddenly become afraid paris fox news lie hidalgo said according cnn opinion legitimate criticism democracy real criticism normal lie serious time like fox stigmatized portion population wanted show something exist despite hidalgo talk lawsuit however fox news told washington post friday yet see court documents watch video courtesy cnn hidalgo comments fox begin 3 minute mark planned parenthood leaving federal government title x program funds family planning services low income people due following ousters homeland security secretary secret service director withdrawal would ice director senate minority leader chuck schumer ny monday called ousted secret service director randolph tex alles testify non members still able read comments longer able participate join conversation sign get 30 annual prime membership tpm strives build inclusive community financially possible offer free memberships experiencing financial hardship free memberships students\n",
            "Classe verdadeira: 1\n",
            "Classe predita: 1\n",
            "\n",
            "\n",
            "Exemplo classificado incorretamente:\n",
            "Artigo: saturday supreme court justice ruth bader ginsburg spoke university chicago law school 40th anniversary roe v wade decision occurred past january case go get abortion celebrate ginsburg talk voiced issues ruling something least two decades status oldest woman court make opinion continually relevant despite fact yet court actually rule real opinion ginsburg considered many voice women rights court problem landmark case speaking saturday night audience university chicago law school superfly liberal 1 roe focused doctors talk enough women doctor freedom practice profession thinks best read roe opinion never see woman standing alone always woman consultation physician ginsburg believes roe ruling would stronger involved distinction abortion decision left woman doctor opinion states abortion decision effectuation must left medical judgment pregnant woman attending physician elaborates doctor freedom practice profession thinks best woman centered physician centered keep beverages toasty day designed minimize risk slips might cause cup spill 2 ruling left room individual states make decisions judgment wrong moved far fast ginsburg said columbia journalism school last year court made decision made every abortion law country invalid even liberal never know whether right wrong things might turned differently court restrained ginsburg believes justices passed ruling would struck texas specific ruling moderator university chicago talk geoffrey stone explains instead reaching decide much broader question whether prohibition abortion constitutionally permissible first twenty four weeks court view short circuited democratic process failed allow states work best regulate abortion 3 woman right choose protected different court case according ginsburg case better fit setting standard reproductive freedoms roe 1971 struck v secretary defense involved female u air force captain vietnam became pregnant something according air force regulation made ineligible military work time ginsburg yet member supreme court representing struck though case never heard air force rules changed wrote interesting merits brief case central question raised case whether air force consistent equal protection principle inherent due process clause fifth amendment may call immediate discharge pregnant women officers petitioner position distinction reflects arbitrary notions woman place wholly odds contemporary legislative judicial recognition individual potential must restrained equal opportunity limited law sanctioned stereotypical prejudgments captain struck seeks favors special protection simply asks judged basis individual capacities qualifications basis characteristics assumed typify pregnant women since ginsburg explained thoughts succintly less legalese idea government stay wish would first case court would better understood question woman choice 4 right time court put stamp approval side change let change develop political process ginsburg says roe v wade leading speculate possible going hesitant pass anything broad sweeping comes marriage equality rulings 5 gave pro life movement something attack roe v wade gave target aim relentlessly said ginsburg pro life movement seemed stop momentum side change address delivered university north carolina school law 1984 later republished law review elaborated sweep detail opinion stimulated mobilization right life movement attendant reaction reaction congress state legislatures place trend toward liberalization abortion statutes noted roe legislatures adopted measures aimed minimizing impact 1973 rulings including notification consent requirements prescriptions protection fetal life bans public expenditures poor women abortions whether hindsight ginsburg accurately explains biggest issue roe v wade become rallying cry great organizing tool name symbol roe v wade could aim fact decision made ordinary democratic process ruth roe end maybe one ever talk abortion earlier justice ginsburg criticizes lack restraint roe v wade ruling ginsberg offers alternative critical perspective roe chicago maroon justice ginsburg roe v wade woman centered chicago tribune justice ginsburg misdirection nyt photo via ap paul beaty heard piece npr roe v wade movement helped happen apparently doctors lobbied hardest legalizing abortion tired dealing botched abortions many women died tables brings interesting question one seems asking god forbid abortions become illegal today doctors feel treating botched abortions many accused malpractice\n",
            "Classe verdadeira: 1\n",
            "Classe predita: 0\n"
          ]
        }
      ]
    }
  ]
}
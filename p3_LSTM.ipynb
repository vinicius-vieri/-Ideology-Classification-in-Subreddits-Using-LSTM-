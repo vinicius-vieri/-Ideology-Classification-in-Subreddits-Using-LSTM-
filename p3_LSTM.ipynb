{
  "nbformat": 4,
  "nbformat_minor": 0,
  "metadata": {
    "colab": {
      "provenance": []
    },
    "kernelspec": {
      "name": "python3",
      "display_name": "Python 3"
    },
    "language_info": {
      "name": "python"
    }
  },
  "cells": [
    {
      "cell_type": "code",
      "execution_count": 1,
      "metadata": {
        "id": "-TqG4vicy3PO"
      },
      "outputs": [],
      "source": [
        "import pandas as pd\n",
        "import spacy"
      ]
    },
    {
      "cell_type": "code",
      "source": [
        "df = pd.read_parquet(\"dataset_processed.parquet\")"
      ],
      "metadata": {
        "id": "NIl_Xivmy_Zi"
      },
      "execution_count": 3,
      "outputs": []
    },
    {
      "cell_type": "code",
      "source": [
        "nlp = spacy.load(\"en_core_web_sm\")"
      ],
      "metadata": {
        "id": "lbq_TN8PzRbb"
      },
      "execution_count": 4,
      "outputs": []
    },
    {
      "cell_type": "code",
      "source": [
        "def tokenize_text(text):\n",
        "    doc = nlp(text)\n",
        "    return [token.text for token in doc]"
      ],
      "metadata": {
        "id": "9BIqU27KzWH7"
      },
      "execution_count": 5,
      "outputs": []
    },
    {
      "cell_type": "code",
      "source": [
        "df.value_counts('label')"
      ],
      "metadata": {
        "colab": {
          "base_uri": "https://localhost:8080/",
          "height": 178
        },
        "id": "bgGLXUCIzW5i",
        "outputId": "caa93df4-2cf1-49ea-a13a-ae9b0b4068f2"
      },
      "execution_count": 6,
      "outputs": [
        {
          "output_type": "execute_result",
          "data": {
            "text/plain": [
              "label\n",
              "0    22554\n",
              "1    22554\n",
              "Name: count, dtype: int64"
            ],
            "text/html": [
              "<div>\n",
              "<style scoped>\n",
              "    .dataframe tbody tr th:only-of-type {\n",
              "        vertical-align: middle;\n",
              "    }\n",
              "\n",
              "    .dataframe tbody tr th {\n",
              "        vertical-align: top;\n",
              "    }\n",
              "\n",
              "    .dataframe thead th {\n",
              "        text-align: right;\n",
              "    }\n",
              "</style>\n",
              "<table border=\"1\" class=\"dataframe\">\n",
              "  <thead>\n",
              "    <tr style=\"text-align: right;\">\n",
              "      <th></th>\n",
              "      <th>count</th>\n",
              "    </tr>\n",
              "    <tr>\n",
              "      <th>label</th>\n",
              "      <th></th>\n",
              "    </tr>\n",
              "  </thead>\n",
              "  <tbody>\n",
              "    <tr>\n",
              "      <th>0</th>\n",
              "      <td>22554</td>\n",
              "    </tr>\n",
              "    <tr>\n",
              "      <th>1</th>\n",
              "      <td>22554</td>\n",
              "    </tr>\n",
              "  </tbody>\n",
              "</table>\n",
              "</div><br><label><b>dtype:</b> int64</label>"
            ]
          },
          "metadata": {},
          "execution_count": 6
        }
      ]
    },
    {
      "cell_type": "code",
      "source": [
        "sampled_df = pd.concat([\n",
        "    df[df['label'] == 0].sample(n=22554, random_state=42),\n",
        "    df[df['label'] == 1].sample(n=22554, random_state=42)\n",
        "])"
      ],
      "metadata": {
        "id": "BSAx9q9mzXoD"
      },
      "execution_count": 7,
      "outputs": []
    },
    {
      "cell_type": "code",
      "source": [
        "sampled_df.reset_index(drop=True, inplace=True)"
      ],
      "metadata": {
        "id": "Zz1teOvqzY-q"
      },
      "execution_count": 8,
      "outputs": []
    },
    {
      "cell_type": "code",
      "source": [
        "print(sampled_df.value_counts('label'))"
      ],
      "metadata": {
        "colab": {
          "base_uri": "https://localhost:8080/"
        },
        "id": "-dDs0g4EzZ87",
        "outputId": "01644288-2542-4847-ac6a-021a7afa8e4c"
      },
      "execution_count": 9,
      "outputs": [
        {
          "output_type": "stream",
          "name": "stdout",
          "text": [
            "label\n",
            "0    22554\n",
            "1    22554\n",
            "Name: count, dtype: int64\n"
          ]
        }
      ]
    },
    {
      "cell_type": "code",
      "source": [
        "df = sampled_df"
      ],
      "metadata": {
        "id": "tVR4D24ezaq6"
      },
      "execution_count": 10,
      "outputs": []
    },
    {
      "cell_type": "code",
      "source": [
        "df.head()"
      ],
      "metadata": {
        "colab": {
          "base_uri": "https://localhost:8080/",
          "height": 206
        },
        "id": "8LxyotNhieXB",
        "outputId": "b0a9ae71-9c5e-4b12-96a0-b393b6a89f47"
      },
      "execution_count": 11,
      "outputs": [
        {
          "output_type": "execute_result",
          "data": {
            "text/plain": [
              "                                            articles  label\n",
              "0  david martosko us political editor com washing...      0\n",
              "1  indeed obamacare passed 2009 without single re...      0\n",
              "2  former alaska governor sarah palin blasted hyp...      0\n",
              "3  discover thomson david ingram 5 min read new y...      0\n",
              "4  uc berkeley welcoming place conservative stude...      0"
            ],
            "text/html": [
              "\n",
              "  <div id=\"df-f1263116-94a9-4454-ad1b-0a0900b796a9\" class=\"colab-df-container\">\n",
              "    <div>\n",
              "<style scoped>\n",
              "    .dataframe tbody tr th:only-of-type {\n",
              "        vertical-align: middle;\n",
              "    }\n",
              "\n",
              "    .dataframe tbody tr th {\n",
              "        vertical-align: top;\n",
              "    }\n",
              "\n",
              "    .dataframe thead th {\n",
              "        text-align: right;\n",
              "    }\n",
              "</style>\n",
              "<table border=\"1\" class=\"dataframe\">\n",
              "  <thead>\n",
              "    <tr style=\"text-align: right;\">\n",
              "      <th></th>\n",
              "      <th>articles</th>\n",
              "      <th>label</th>\n",
              "    </tr>\n",
              "  </thead>\n",
              "  <tbody>\n",
              "    <tr>\n",
              "      <th>0</th>\n",
              "      <td>david martosko us political editor com washing...</td>\n",
              "      <td>0</td>\n",
              "    </tr>\n",
              "    <tr>\n",
              "      <th>1</th>\n",
              "      <td>indeed obamacare passed 2009 without single re...</td>\n",
              "      <td>0</td>\n",
              "    </tr>\n",
              "    <tr>\n",
              "      <th>2</th>\n",
              "      <td>former alaska governor sarah palin blasted hyp...</td>\n",
              "      <td>0</td>\n",
              "    </tr>\n",
              "    <tr>\n",
              "      <th>3</th>\n",
              "      <td>discover thomson david ingram 5 min read new y...</td>\n",
              "      <td>0</td>\n",
              "    </tr>\n",
              "    <tr>\n",
              "      <th>4</th>\n",
              "      <td>uc berkeley welcoming place conservative stude...</td>\n",
              "      <td>0</td>\n",
              "    </tr>\n",
              "  </tbody>\n",
              "</table>\n",
              "</div>\n",
              "    <div class=\"colab-df-buttons\">\n",
              "\n",
              "  <div class=\"colab-df-container\">\n",
              "    <button class=\"colab-df-convert\" onclick=\"convertToInteractive('df-f1263116-94a9-4454-ad1b-0a0900b796a9')\"\n",
              "            title=\"Convert this dataframe to an interactive table.\"\n",
              "            style=\"display:none;\">\n",
              "\n",
              "  <svg xmlns=\"http://www.w3.org/2000/svg\" height=\"24px\" viewBox=\"0 -960 960 960\">\n",
              "    <path d=\"M120-120v-720h720v720H120Zm60-500h600v-160H180v160Zm220 220h160v-160H400v160Zm0 220h160v-160H400v160ZM180-400h160v-160H180v160Zm440 0h160v-160H620v160ZM180-180h160v-160H180v160Zm440 0h160v-160H620v160Z\"/>\n",
              "  </svg>\n",
              "    </button>\n",
              "\n",
              "  <style>\n",
              "    .colab-df-container {\n",
              "      display:flex;\n",
              "      gap: 12px;\n",
              "    }\n",
              "\n",
              "    .colab-df-convert {\n",
              "      background-color: #E8F0FE;\n",
              "      border: none;\n",
              "      border-radius: 50%;\n",
              "      cursor: pointer;\n",
              "      display: none;\n",
              "      fill: #1967D2;\n",
              "      height: 32px;\n",
              "      padding: 0 0 0 0;\n",
              "      width: 32px;\n",
              "    }\n",
              "\n",
              "    .colab-df-convert:hover {\n",
              "      background-color: #E2EBFA;\n",
              "      box-shadow: 0px 1px 2px rgba(60, 64, 67, 0.3), 0px 1px 3px 1px rgba(60, 64, 67, 0.15);\n",
              "      fill: #174EA6;\n",
              "    }\n",
              "\n",
              "    .colab-df-buttons div {\n",
              "      margin-bottom: 4px;\n",
              "    }\n",
              "\n",
              "    [theme=dark] .colab-df-convert {\n",
              "      background-color: #3B4455;\n",
              "      fill: #D2E3FC;\n",
              "    }\n",
              "\n",
              "    [theme=dark] .colab-df-convert:hover {\n",
              "      background-color: #434B5C;\n",
              "      box-shadow: 0px 1px 3px 1px rgba(0, 0, 0, 0.15);\n",
              "      filter: drop-shadow(0px 1px 2px rgba(0, 0, 0, 0.3));\n",
              "      fill: #FFFFFF;\n",
              "    }\n",
              "  </style>\n",
              "\n",
              "    <script>\n",
              "      const buttonEl =\n",
              "        document.querySelector('#df-f1263116-94a9-4454-ad1b-0a0900b796a9 button.colab-df-convert');\n",
              "      buttonEl.style.display =\n",
              "        google.colab.kernel.accessAllowed ? 'block' : 'none';\n",
              "\n",
              "      async function convertToInteractive(key) {\n",
              "        const element = document.querySelector('#df-f1263116-94a9-4454-ad1b-0a0900b796a9');\n",
              "        const dataTable =\n",
              "          await google.colab.kernel.invokeFunction('convertToInteractive',\n",
              "                                                    [key], {});\n",
              "        if (!dataTable) return;\n",
              "\n",
              "        const docLinkHtml = 'Like what you see? Visit the ' +\n",
              "          '<a target=\"_blank\" href=https://colab.research.google.com/notebooks/data_table.ipynb>data table notebook</a>'\n",
              "          + ' to learn more about interactive tables.';\n",
              "        element.innerHTML = '';\n",
              "        dataTable['output_type'] = 'display_data';\n",
              "        await google.colab.output.renderOutput(dataTable, element);\n",
              "        const docLink = document.createElement('div');\n",
              "        docLink.innerHTML = docLinkHtml;\n",
              "        element.appendChild(docLink);\n",
              "      }\n",
              "    </script>\n",
              "  </div>\n",
              "\n",
              "\n",
              "<div id=\"df-8ed91705-1d89-4c26-be04-129df10caddc\">\n",
              "  <button class=\"colab-df-quickchart\" onclick=\"quickchart('df-8ed91705-1d89-4c26-be04-129df10caddc')\"\n",
              "            title=\"Suggest charts\"\n",
              "            style=\"display:none;\">\n",
              "\n",
              "<svg xmlns=\"http://www.w3.org/2000/svg\" height=\"24px\"viewBox=\"0 0 24 24\"\n",
              "     width=\"24px\">\n",
              "    <g>\n",
              "        <path d=\"M19 3H5c-1.1 0-2 .9-2 2v14c0 1.1.9 2 2 2h14c1.1 0 2-.9 2-2V5c0-1.1-.9-2-2-2zM9 17H7v-7h2v7zm4 0h-2V7h2v10zm4 0h-2v-4h2v4z\"/>\n",
              "    </g>\n",
              "</svg>\n",
              "  </button>\n",
              "\n",
              "<style>\n",
              "  .colab-df-quickchart {\n",
              "      --bg-color: #E8F0FE;\n",
              "      --fill-color: #1967D2;\n",
              "      --hover-bg-color: #E2EBFA;\n",
              "      --hover-fill-color: #174EA6;\n",
              "      --disabled-fill-color: #AAA;\n",
              "      --disabled-bg-color: #DDD;\n",
              "  }\n",
              "\n",
              "  [theme=dark] .colab-df-quickchart {\n",
              "      --bg-color: #3B4455;\n",
              "      --fill-color: #D2E3FC;\n",
              "      --hover-bg-color: #434B5C;\n",
              "      --hover-fill-color: #FFFFFF;\n",
              "      --disabled-bg-color: #3B4455;\n",
              "      --disabled-fill-color: #666;\n",
              "  }\n",
              "\n",
              "  .colab-df-quickchart {\n",
              "    background-color: var(--bg-color);\n",
              "    border: none;\n",
              "    border-radius: 50%;\n",
              "    cursor: pointer;\n",
              "    display: none;\n",
              "    fill: var(--fill-color);\n",
              "    height: 32px;\n",
              "    padding: 0;\n",
              "    width: 32px;\n",
              "  }\n",
              "\n",
              "  .colab-df-quickchart:hover {\n",
              "    background-color: var(--hover-bg-color);\n",
              "    box-shadow: 0 1px 2px rgba(60, 64, 67, 0.3), 0 1px 3px 1px rgba(60, 64, 67, 0.15);\n",
              "    fill: var(--button-hover-fill-color);\n",
              "  }\n",
              "\n",
              "  .colab-df-quickchart-complete:disabled,\n",
              "  .colab-df-quickchart-complete:disabled:hover {\n",
              "    background-color: var(--disabled-bg-color);\n",
              "    fill: var(--disabled-fill-color);\n",
              "    box-shadow: none;\n",
              "  }\n",
              "\n",
              "  .colab-df-spinner {\n",
              "    border: 2px solid var(--fill-color);\n",
              "    border-color: transparent;\n",
              "    border-bottom-color: var(--fill-color);\n",
              "    animation:\n",
              "      spin 1s steps(1) infinite;\n",
              "  }\n",
              "\n",
              "  @keyframes spin {\n",
              "    0% {\n",
              "      border-color: transparent;\n",
              "      border-bottom-color: var(--fill-color);\n",
              "      border-left-color: var(--fill-color);\n",
              "    }\n",
              "    20% {\n",
              "      border-color: transparent;\n",
              "      border-left-color: var(--fill-color);\n",
              "      border-top-color: var(--fill-color);\n",
              "    }\n",
              "    30% {\n",
              "      border-color: transparent;\n",
              "      border-left-color: var(--fill-color);\n",
              "      border-top-color: var(--fill-color);\n",
              "      border-right-color: var(--fill-color);\n",
              "    }\n",
              "    40% {\n",
              "      border-color: transparent;\n",
              "      border-right-color: var(--fill-color);\n",
              "      border-top-color: var(--fill-color);\n",
              "    }\n",
              "    60% {\n",
              "      border-color: transparent;\n",
              "      border-right-color: var(--fill-color);\n",
              "    }\n",
              "    80% {\n",
              "      border-color: transparent;\n",
              "      border-right-color: var(--fill-color);\n",
              "      border-bottom-color: var(--fill-color);\n",
              "    }\n",
              "    90% {\n",
              "      border-color: transparent;\n",
              "      border-bottom-color: var(--fill-color);\n",
              "    }\n",
              "  }\n",
              "</style>\n",
              "\n",
              "  <script>\n",
              "    async function quickchart(key) {\n",
              "      const quickchartButtonEl =\n",
              "        document.querySelector('#' + key + ' button');\n",
              "      quickchartButtonEl.disabled = true;  // To prevent multiple clicks.\n",
              "      quickchartButtonEl.classList.add('colab-df-spinner');\n",
              "      try {\n",
              "        const charts = await google.colab.kernel.invokeFunction(\n",
              "            'suggestCharts', [key], {});\n",
              "      } catch (error) {\n",
              "        console.error('Error during call to suggestCharts:', error);\n",
              "      }\n",
              "      quickchartButtonEl.classList.remove('colab-df-spinner');\n",
              "      quickchartButtonEl.classList.add('colab-df-quickchart-complete');\n",
              "    }\n",
              "    (() => {\n",
              "      let quickchartButtonEl =\n",
              "        document.querySelector('#df-8ed91705-1d89-4c26-be04-129df10caddc button');\n",
              "      quickchartButtonEl.style.display =\n",
              "        google.colab.kernel.accessAllowed ? 'block' : 'none';\n",
              "    })();\n",
              "  </script>\n",
              "</div>\n",
              "\n",
              "    </div>\n",
              "  </div>\n"
            ],
            "application/vnd.google.colaboratory.intrinsic+json": {
              "type": "dataframe",
              "variable_name": "df",
              "summary": "{\n  \"name\": \"df\",\n  \"rows\": 45108,\n  \"fields\": [\n    {\n      \"column\": \"articles\",\n      \"properties\": {\n        \"dtype\": \"string\",\n        \"num_unique_values\": 44880,\n        \"samples\": [\n          \"results us led joint strike syria best reaction recent chemical attack assad regime holds david andelman cnn france pushed hard option publicly commenting red line crossed president trump ultimately biggest decision maker would well follow plan refrains stronger military intervention risks mirroring mistake barrack obama made 2013 punishing assad transgressions allowing syrian leader go without punishment would make trump look weak could open door atrocities civilians half hearted western intervention syria since 2011 dragged conflict fueling civilian death toll little improve situation argues simon jenkins guardian sooner assad wins sooner carnage end us strike airbase syrian chemical weapons attack 2017 little changed international condemnation done nothing sway assad allies fact western bombing campaigns led 8 000 civilian deaths mosul one estimate chemical weapons may cruel cluster bombs deadly west stop prolonging horrors intervening perspective civil rights united effort every group please enter valid email\",\n          \"material may published broadcast rewritten redistributed 2021 fox news network llc rights reserved quotes displayed real time delayed least 15 minutes market data provided factset powered implemented factset digital solutions legal statement mutual fund etf data provided refinitiv lipper happening panel weighs health official oversaw problem plagued launch federal obamacare website retiring obama administration confirmed monday michelle snyder 2 official centers medicare medicaid services leaving post departure announced cms administrator marilyn tavenner though republicans democrats calling heads roll botched launch program particularly healthcare gov unclear whether snyder resignation point already planned tavenner claimed snyder originally preparing leave year ago characteristically chose postpone retirement federal service request help challenges facing cms 2013 statement tavenner included criticism snyder performance past year praised 41 years outstanding public service tavenner added agency losing key member leadership team celebrate michelle dedication mission provides vital health care services tens millions fellow americans medicare medicaid programs snyder well known official name surfaced connection botched rollout oct 30 hearing time health human services secretary kathleen sebelius revealed snyder chief operating officer charge launch questioning rep marsha blackburn r tenn sebelius tried shoulder blame michelle snyder one responsible debacle blackburn asked well excuse congresswoman sebelius answered michelle snyder responsible debacle hold accountable debacle responsible despite widespread technical problems meager enrollment outset administration announced number enrollees health care site surpassed 1 million administration still long way go reach target along state based exchanges 7 million end march get stories need know powerful name news delivered first thing every morning inbox subscribed successfully subscribed newsletter material may published broadcast rewritten redistributed 2021 fox news network llc rights reserved quotes displayed real time delayed least 15 minutes market data provided factset powered implemented factset digital solutions legal statement mutual fund etf data provided refinitiv lipper\",\n          \"congress final agreement comes weeks negotiations two leaders senate majority leader chuck schumer speaks news conference capitol feb 2 2021 marianne levine 02 03 2021 09 49 est updated 02 03 2021 08 44 pm est link copied senate majority leader chuck schumer senate minority leader mitch mcconnell reached deal wednesday power sharing agreement governing upper chamber final agreement called organizing resolution evenly split senate allows democrats take control committees comes weeks negotiation two leaders senate approved resolution later wednesday happy report morning leadership parties finalized organizing resolution senate schumer said adding approval resolution means committees promptly set get work statement mcconnell said power sharing agreement almost identical 2001 agreement allow senate fairly run evenly split body lack organizing resolution created unusual situation senate republicans still technically held committee gavels overseeing confirmation process president joe biden nominees even though democrats hold majority also meant new members senate yet received committee assignments schumer mcconnell announced new committee assignments mcconnell initially asked senate democrats commit protecting legislative filibuster part agreement schumer rejected mcconnell dropped demand sens joe manchin w va kyrsten sinema ariz publicly reiterated support eliminating 60 vote threshold part agreement schumer pledged would limit amendments unless dilatory measures prevent senate taking action leave alternative mcconnell meanwhile said would seek avoid lengthy debates procedural votes legislation significant bipartisan support addition power sharing agreement schumer announced sonceria ann berry become secretary senate starting march 1 replacing julie adams berry first african american eighth woman serve role replacing secretary senate winning majority unusual either party new agreement resemble 2001 power sharing agreement former senate leaders trent lott tom daschle pact also took weeks negotiate unlike year 2001 accord reached newly elected president george w bush officially took office change party control chamber senate democrats win majority jan 5 georgia runoff races democrats jon ossoff raphael warnock senate seats vice president kamala harris tie breaking vote democrats link copied 2021 llc\"\n        ],\n        \"semantic_type\": \"\",\n        \"description\": \"\"\n      }\n    },\n    {\n      \"column\": \"label\",\n      \"properties\": {\n        \"dtype\": \"number\",\n        \"std\": 0,\n        \"min\": 0,\n        \"max\": 1,\n        \"num_unique_values\": 2,\n        \"samples\": [\n          1,\n          0\n        ],\n        \"semantic_type\": \"\",\n        \"description\": \"\"\n      }\n    }\n  ]\n}"
            }
          },
          "metadata": {},
          "execution_count": 11
        }
      ]
    },
    {
      "cell_type": "code",
      "source": [
        "from sklearn.model_selection import train_test_split\n",
        "from tensorflow.keras.preprocessing.text import Tokenizer\n",
        "from tensorflow.keras.preprocessing.sequence import pad_sequences\n",
        "from tensorflow.keras.utils import to_categorical\n",
        "from sklearn.preprocessing import LabelEncoder\n",
        "from tensorflow.keras.models import Sequential\n",
        "from tensorflow.keras.layers import Embedding, LSTM, Dropout, Dense\n",
        "from tensorflow.keras.regularizers import l2\n",
        "import matplotlib.pyplot as plt"
      ],
      "metadata": {
        "id": "B4U6z9V4zbgp"
      },
      "execution_count": 25,
      "outputs": []
    },
    {
      "cell_type": "code",
      "source": [
        "train_df, test_df = train_test_split(df, test_size=0.2, random_state=42, stratify=df['label'])"
      ],
      "metadata": {
        "id": "-JMjYtaXzck6"
      },
      "execution_count": 19,
      "outputs": []
    },
    {
      "cell_type": "code",
      "source": [
        "tokenizer = Tokenizer(num_words=10000)\n",
        "tokenizer.fit_on_texts(train_df['articles'])"
      ],
      "metadata": {
        "id": "x6ikB5acz85Z"
      },
      "execution_count": 20,
      "outputs": []
    },
    {
      "cell_type": "code",
      "source": [
        "tokenizer.fit_on_texts(test_df['articles'])"
      ],
      "metadata": {
        "id": "9X8OY1_c0AM6"
      },
      "execution_count": 21,
      "outputs": []
    },
    {
      "cell_type": "code",
      "source": [
        "X_train = tokenizer.texts_to_sequences(train_df['articles'])\n",
        "X_train = pad_sequences(X_train, maxlen=100)\n",
        "\n",
        "X_test = tokenizer.texts_to_sequences(test_df['articles'])\n",
        "X_test = pad_sequences(X_test, maxlen=100)"
      ],
      "metadata": {
        "id": "ZgyDDMcs0BLp"
      },
      "execution_count": 22,
      "outputs": []
    },
    {
      "cell_type": "code",
      "source": [
        "label_encoder = LabelEncoder()\n",
        "\n",
        "y_train = label_encoder.fit_transform(train_df['label'])\n",
        "y_train = to_categorical(y_train)\n",
        "\n",
        "y_test = label_encoder.transform(test_df['label'])\n",
        "y_test = to_categorical(y_test)"
      ],
      "metadata": {
        "id": "q79M1VrU0Cap"
      },
      "execution_count": 23,
      "outputs": []
    },
    {
      "cell_type": "code",
      "source": [
        "model = Sequential([\n",
        "    Embedding(input_dim=10000, output_dim=200),\n",
        "    LSTM(200, dropout=0.5, recurrent_dropout=0.5),\n",
        "    Dropout(0.5),\n",
        "    Dense(len(label_encoder.classes_), activation='softmax', kernel_regularizer=l2(0.5))\n",
        "])"
      ],
      "metadata": {
        "id": "u7vBkgDU0DoZ"
      },
      "execution_count": 26,
      "outputs": []
    },
    {
      "cell_type": "code",
      "source": [
        "model.compile(optimizer='adam', loss='binary_crossentropy', metrics=['accuracy']) # tô usando entropia cruzada como visto nas aulas, e adam pois ele é muito bom.\n",
        "\n",
        "history = model.fit(X_train, y_train, epochs=5, batch_size=64, validation_split=0.1)\n",
        "\n",
        "loss, accuracy = model.evaluate(X_test, y_test)\n",
        "print(f'Acurácia final do modelo: {accuracy}')"
      ],
      "metadata": {
        "id": "oI4Zbzso0Eca",
        "colab": {
          "base_uri": "https://localhost:8080/"
        },
        "outputId": "7faae7a7-7680-47e9-b89f-57ce9bf9f8bb"
      },
      "execution_count": 27,
      "outputs": [
        {
          "output_type": "stream",
          "name": "stdout",
          "text": [
            "Epoch 1/5\n",
            "\u001b[1m508/508\u001b[0m \u001b[32m━━━━━━━━━━━━━━━━━━━━\u001b[0m\u001b[37m\u001b[0m \u001b[1m226s\u001b[0m 440ms/step - accuracy: 0.6906 - loss: 1.1998 - val_accuracy: 0.7531 - val_loss: 0.5215\n",
            "Epoch 2/5\n",
            "\u001b[1m508/508\u001b[0m \u001b[32m━━━━━━━━━━━━━━━━━━━━\u001b[0m\u001b[37m\u001b[0m \u001b[1m248s\u001b[0m 414ms/step - accuracy: 0.7789 - loss: 0.5019 - val_accuracy: 0.7656 - val_loss: 0.4937\n",
            "Epoch 3/5\n",
            "\u001b[1m508/508\u001b[0m \u001b[32m━━━━━━━━━━━━━━━━━━━━\u001b[0m\u001b[37m\u001b[0m \u001b[1m213s\u001b[0m 420ms/step - accuracy: 0.8143 - loss: 0.4516 - val_accuracy: 0.7670 - val_loss: 0.4959\n",
            "Epoch 4/5\n",
            "\u001b[1m508/508\u001b[0m \u001b[32m━━━━━━━━━━━━━━━━━━━━\u001b[0m\u001b[37m\u001b[0m \u001b[1m260s\u001b[0m 417ms/step - accuracy: 0.8314 - loss: 0.4247 - val_accuracy: 0.7670 - val_loss: 0.4874\n",
            "Epoch 5/5\n",
            "\u001b[1m508/508\u001b[0m \u001b[32m━━━━━━━━━━━━━━━━━━━━\u001b[0m\u001b[37m\u001b[0m \u001b[1m261s\u001b[0m 415ms/step - accuracy: 0.8419 - loss: 0.4044 - val_accuracy: 0.7642 - val_loss: 0.4864\n",
            "\u001b[1m282/282\u001b[0m \u001b[32m━━━━━━━━━━━━━━━━━━━━\u001b[0m\u001b[37m\u001b[0m \u001b[1m24s\u001b[0m 87ms/step - accuracy: 0.7730 - loss: 0.4865\n",
            "Acurácia final do modelo: 0.770117461681366\n"
          ]
        }
      ]
    },
    {
      "cell_type": "code",
      "source": [
        "train_loss = history.history['loss']\n",
        "val_loss = history.history['val_loss']\n",
        "train_accuracy = history.history['accuracy']\n",
        "val_accuracy = history.history['val_accuracy']\n",
        "\n",
        "plt.plot(train_accuracy, label='Acurácia Treino', color=\"green\")\n",
        "plt.plot(val_accuracy, label='Acurácia Validação', color=\"orange\")\n",
        "plt.xlabel('Época')\n",
        "plt.ylabel('Acurácia')\n",
        "plt.legend()\n",
        "plt.show()\n",
        "\n",
        "plt.plot(train_loss, label='Perda Treino', color=\"green\")\n",
        "plt.plot(val_loss, label='Perda Validação', color=\"orange\")\n",
        "plt.xlabel('Época')\n",
        "plt.ylabel('Perda')\n",
        "plt.legend()\n",
        "plt.show()"
      ],
      "metadata": {
        "id": "Fkim3x0V0FmB",
        "colab": {
          "base_uri": "https://localhost:8080/",
          "height": 885
        },
        "outputId": "d24fbbcf-5e80-4430-9ead-2c83ca24f596"
      },
      "execution_count": 29,
      "outputs": [
        {
          "output_type": "display_data",
          "data": {
            "text/plain": [
              "<Figure size 640x480 with 1 Axes>"
            ],
            "image/png": "[encoded data removed]"
          },
          "metadata": {}
        },
        {
          "output_type": "display_data",
          "data": {
            "text/plain": [
              "<Figure size 640x480 with 1 Axes>"
            ],
            "image/png": "[encoded data removed]"
          },
          "metadata": {}
        }
      ]
    }
  ]
}
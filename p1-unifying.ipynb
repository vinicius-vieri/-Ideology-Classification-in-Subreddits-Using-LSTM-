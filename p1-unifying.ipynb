{
 "cells": [
  {
   "cell_type": "code",
   "execution_count": 9,
   "metadata": {},
   "outputs": [],
   "source": [
    "import pandas as pd"
   ]
  },
  {
   "cell_type": "code",
   "execution_count": 10,
   "metadata": {},
   "outputs": [],
   "source": [
    "df_liberal = pd.read_json(\"Liberal.json\")\n",
    "df_conservador = pd.read_json(\"Conservative.json\")"
   ]
  },
  {
   "cell_type": "code",
   "execution_count": 11,
   "metadata": {},
   "outputs": [
    {
     "data": {
      "text/plain": [
       "((22554, 9), (22554, 10))"
      ]
     },
     "execution_count": 11,
     "metadata": {},
     "output_type": "execute_result"
    }
   ],
   "source": [
    "df_liberal.shape, df_conservador.shape"
   ]
  },
  {
   "cell_type": "code",
   "execution_count": 12,
   "metadata": {},
   "outputs": [
    {
     "data": {
      "text/plain": [
       "(Index(['urls', 'articles', 'created_utc', 'num_upvotes', 'num_comments',\n",
       "        'flair', 'url_domain', 'Frequency', 'totalwords'],\n",
       "       dtype='object'),\n",
       " Index(['urls', 'articles', 'created_utc', 'num_upvotes', 'num_comments',\n",
       "        'flair', 'url_domain', 'Frequency', 'totalwords', 'date'],\n",
       "       dtype='object'))"
      ]
     },
     "execution_count": 12,
     "metadata": {},
     "output_type": "execute_result"
    }
   ],
   "source": [
    "df_liberal.columns, df_conservador.columns"
   ]
  },
  {
   "cell_type": "code",
   "execution_count": 13,
   "metadata": {},
   "outputs": [],
   "source": [
    "df_liberal['label'] = 1\n",
    "df_conservador['label'] = 0"
   ]
  },
  {
   "cell_type": "code",
   "execution_count": 6,
   "metadata": {},
   "outputs": [
    {
     "data": {
      "text/html": [
       "<div>\n",
       "<style scoped>\n",
       "    .dataframe tbody tr th:only-of-type {\n",
       "        vertical-align: middle;\n",
       "    }\n",
       "\n",
       "    .dataframe tbody tr th {\n",
       "        vertical-align: top;\n",
       "    }\n",
       "\n",
       "    .dataframe thead th {\n",
       "        text-align: right;\n",
       "    }\n",
       "</style>\n",
       "<table border=\"1\" class=\"dataframe\">\n",
       "  <thead>\n",
       "    <tr style=\"text-align: right;\">\n",
       "      <th></th>\n",
       "      <th>urls</th>\n",
       "      <th>articles</th>\n",
       "      <th>created_utc</th>\n",
       "      <th>num_upvotes</th>\n",
       "      <th>num_comments</th>\n",
       "      <th>flair</th>\n",
       "      <th>url_domain</th>\n",
       "      <th>Frequency</th>\n",
       "      <th>totalwords</th>\n",
       "    </tr>\n",
       "  </thead>\n",
       "  <tbody>\n",
       "    <tr>\n",
       "      <th>0</th>\n",
       "      <td>http://www.americamagazine.org/blog/entry.cfm?...</td>\n",
       "      <td>The news of Justice David Souter’s retirement ...</td>\n",
       "      <td>1241294002</td>\n",
       "      <td>3</td>\n",
       "      <td>0</td>\n",
       "      <td>[]</td>\n",
       "      <td>americamagazine</td>\n",
       "      <td>2</td>\n",
       "      <td>619</td>\n",
       "    </tr>\n",
       "    <tr>\n",
       "      <th>1</th>\n",
       "      <td>http://www.rockridgeinstitute.org/research/roc...</td>\n",
       "      <td>Let’s face it. Your goal is to go deer hunting...</td>\n",
       "      <td>1242187364</td>\n",
       "      <td>3</td>\n",
       "      <td>0</td>\n",
       "      <td>[]</td>\n",
       "      <td>rockridgeinstitute</td>\n",
       "      <td>1</td>\n",
       "      <td>323</td>\n",
       "    </tr>\n",
       "    <tr>\n",
       "      <th>2</th>\n",
       "      <td>http://whohijackedourcountry.blogspot.com/</td>\n",
       "      <td>Don't worry; it's just temporary. When the new...</td>\n",
       "      <td>1242369240</td>\n",
       "      <td>0</td>\n",
       "      <td>0</td>\n",
       "      <td>[]</td>\n",
       "      <td>blogspot</td>\n",
       "      <td>251</td>\n",
       "      <td>2052</td>\n",
       "    </tr>\n",
       "  </tbody>\n",
       "</table>\n",
       "</div>"
      ],
      "text/plain": [
       "                                                urls  \\\n",
       "0  http://www.americamagazine.org/blog/entry.cfm?...   \n",
       "1  http://www.rockridgeinstitute.org/research/roc...   \n",
       "2         http://whohijackedourcountry.blogspot.com/   \n",
       "\n",
       "                                            articles  created_utc  \\\n",
       "0  The news of Justice David Souter’s retirement ...   1241294002   \n",
       "1  Let’s face it. Your goal is to go deer hunting...   1242187364   \n",
       "2  Don't worry; it's just temporary. When the new...   1242369240   \n",
       "\n",
       "   num_upvotes  num_comments flair          url_domain  Frequency  totalwords  \n",
       "0            3             0    []     americamagazine          2         619  \n",
       "1            3             0    []  rockridgeinstitute          1         323  \n",
       "2            0             0    []            blogspot        251        2052  "
      ]
     },
     "execution_count": 6,
     "metadata": {},
     "output_type": "execute_result"
    }
   ],
   "source": [
    "df_liberal.head(3)"
   ]
  },
  {
   "cell_type": "code",
   "execution_count": 14,
   "metadata": {},
   "outputs": [
    {
     "data": {
      "text/html": [
       "<div>\n",
       "<style scoped>\n",
       "    .dataframe tbody tr th:only-of-type {\n",
       "        vertical-align: middle;\n",
       "    }\n",
       "\n",
       "    .dataframe tbody tr th {\n",
       "        vertical-align: top;\n",
       "    }\n",
       "\n",
       "    .dataframe thead th {\n",
       "        text-align: right;\n",
       "    }\n",
       "</style>\n",
       "<table border=\"1\" class=\"dataframe\">\n",
       "  <thead>\n",
       "    <tr style=\"text-align: right;\">\n",
       "      <th></th>\n",
       "      <th>urls</th>\n",
       "      <th>articles</th>\n",
       "      <th>created_utc</th>\n",
       "      <th>num_upvotes</th>\n",
       "      <th>num_comments</th>\n",
       "      <th>flair</th>\n",
       "      <th>url_domain</th>\n",
       "      <th>Frequency</th>\n",
       "      <th>totalwords</th>\n",
       "      <th>date</th>\n",
       "      <th>label</th>\n",
       "    </tr>\n",
       "  </thead>\n",
       "  <tbody>\n",
       "    <tr>\n",
       "      <th>0</th>\n",
       "      <td>http://beaglescout.wordpress.com/2009/05/13/th...</td>\n",
       "      <td>Today, prompted by an anecdote at the American...</td>\n",
       "      <td>1242230642</td>\n",
       "      <td>7</td>\n",
       "      <td>4</td>\n",
       "      <td>[]</td>\n",
       "      <td>wordpress</td>\n",
       "      <td>1317</td>\n",
       "      <td>2741</td>\n",
       "      <td>2009-05-13</td>\n",
       "      <td>0</td>\n",
       "    </tr>\n",
       "    <tr>\n",
       "      <th>1</th>\n",
       "      <td>http://michellemalkin.com/2009/05/15/bad-habit...</td>\n",
       "      <td>This is getting to be a habit. During the stim...</td>\n",
       "      <td>1242410473</td>\n",
       "      <td>6</td>\n",
       "      <td>0</td>\n",
       "      <td>[]</td>\n",
       "      <td>michellemalkin</td>\n",
       "      <td>130</td>\n",
       "      <td>344</td>\n",
       "      <td>2009-05-15</td>\n",
       "      <td>0</td>\n",
       "    </tr>\n",
       "    <tr>\n",
       "      <th>2</th>\n",
       "      <td>http://www.sfgate.com/cgi-bin/article.cgi?f=/c...</td>\n",
       "      <td>The pundits are wrong. Conventional wisdom is ...</td>\n",
       "      <td>1247584963</td>\n",
       "      <td>0</td>\n",
       "      <td>2</td>\n",
       "      <td>[]</td>\n",
       "      <td>sfgate</td>\n",
       "      <td>299</td>\n",
       "      <td>868</td>\n",
       "      <td>2009-07-14</td>\n",
       "      <td>0</td>\n",
       "    </tr>\n",
       "  </tbody>\n",
       "</table>\n",
       "</div>"
      ],
      "text/plain": [
       "                                                urls  \\\n",
       "0  http://beaglescout.wordpress.com/2009/05/13/th...   \n",
       "1  http://michellemalkin.com/2009/05/15/bad-habit...   \n",
       "2  http://www.sfgate.com/cgi-bin/article.cgi?f=/c...   \n",
       "\n",
       "                                            articles  created_utc num_upvotes  \\\n",
       "0  Today, prompted by an anecdote at the American...   1242230642           7   \n",
       "1  This is getting to be a habit. During the stim...   1242410473           6   \n",
       "2  The pundits are wrong. Conventional wisdom is ...   1247584963           0   \n",
       "\n",
       "   num_comments flair      url_domain  Frequency  totalwords       date  label  \n",
       "0             4    []       wordpress       1317        2741 2009-05-13      0  \n",
       "1             0    []  michellemalkin        130         344 2009-05-15      0  \n",
       "2             2    []          sfgate        299         868 2009-07-14      0  "
      ]
     },
     "execution_count": 14,
     "metadata": {},
     "output_type": "execute_result"
    }
   ],
   "source": [
    "df_conservador.head(3)"
   ]
  },
  {
   "cell_type": "code",
   "execution_count": 15,
   "metadata": {},
   "outputs": [],
   "source": [
    "df_liberal = df_liberal[['articles', 'label', \"urls\"]]\n",
    "df_conservador = df_conservador[['articles', 'label', \"urls\"]]"
   ]
  },
  {
   "cell_type": "code",
   "execution_count": 16,
   "metadata": {},
   "outputs": [],
   "source": [
    "df = pd.concat([df_liberal, df_conservador])"
   ]
  },
  {
   "cell_type": "code",
   "execution_count": 17,
   "metadata": {},
   "outputs": [
    {
     "data": {
      "text/plain": [
       "label\n",
       "1    22554\n",
       "0    22554\n",
       "Name: count, dtype: int64"
      ]
     },
     "execution_count": 17,
     "metadata": {},
     "output_type": "execute_result"
    }
   ],
   "source": [
    "df['label'].value_counts()"
   ]
  },
  {
   "cell_type": "code",
   "execution_count": 18,
   "metadata": {},
   "outputs": [],
   "source": [
    "df.to_parquet(\"dataset.parquet\", index=False)"
   ]
  }
 ],
 "metadata": {
  "kernelspec": {
   "display_name": "projeto-reddit",
   "language": "python",
   "name": "python3"
  },
  "language_info": {
   "codemirror_mode": {
    "name": "ipython",
    "version": 3
   },
   "file_extension": ".py",
   "mimetype": "text/x-python",
   "name": "python",
   "nbconvert_exporter": "python",
   "pygments_lexer": "ipython3",
   "version": "3.11.9"
  }
 },
 "nbformat": 4,
 "nbformat_minor": 2
}
